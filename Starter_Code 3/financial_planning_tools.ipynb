{
 "cells": [
  {
   "cell_type": "markdown",
   "metadata": {},
   "source": [
    "# Financial Planning with APIs and Simulations\n",
    "\n",
    "In this Challenge, you’ll create two financial analysis tools by using a single Jupyter notebook:\n",
    "\n",
    "Part 1: A financial planner for emergencies. The members will be able to use this tool to visualize their current savings. The members can then determine if they have enough reserves for an emergency fund.\n",
    "\n",
    "Part 2: A financial planner for retirement. This tool will forecast the performance of their retirement portfolio in 30 years. To do this, the tool will make an Alpaca API call via the Alpaca SDK to get historical price data for use in Monte Carlo simulations.\n",
    "\n",
    "You’ll use the information from the Monte Carlo simulation to answer questions about the portfolio in your Jupyter notebook.\n",
    "\n"
   ]
  },
  {
   "cell_type": "code",
   "execution_count": 1,
   "metadata": {},
   "outputs": [],
   "source": [
    "# Import the required libraries and dependencies\n",
    "import os\n",
    "import requests\n",
    "import json\n",
    "import pandas as pd\n",
    "from dotenv import load_dotenv\n",
    "import alpaca_trade_api as tradeapi\n",
    "from MCForecastTools import MCSimulation\n",
    "\n",
    "%matplotlib inline"
   ]
  },
  {
   "cell_type": "code",
   "execution_count": 2,
   "metadata": {},
   "outputs": [
    {
     "data": {
      "text/plain": [
       "True"
      ]
     },
     "execution_count": 2,
     "metadata": {},
     "output_type": "execute_result"
    }
   ],
   "source": [
    "# Load the environment variables from the .env file\n",
    "#by calling the load_dotenv function\n",
    "load_dotenv()"
   ]
  },
  {
   "cell_type": "markdown",
   "metadata": {},
   "source": [
    "## Part 1: Create a Financial Planner for Emergencies"
   ]
  },
  {
   "cell_type": "markdown",
   "metadata": {},
   "source": [
    "### Evaluate the Cryptocurrency Wallet by Using the Requests Library\n",
    "\n",
    "In this section, you’ll determine the current value of a member’s cryptocurrency wallet. You’ll collect the current prices for the Bitcoin and Ethereum cryptocurrencies by using the Python Requests library. For the prototype, you’ll assume that the member holds the 1.2 Bitcoins (BTC) and 5.3 Ethereum coins (ETH). To do all this, complete the following steps:\n",
    "\n",
    "1. Create a variable named `monthly_income`, and set its value to `12000`.\n",
    "\n",
    "2. Use the Requests library to get the current price (in US dollars) of Bitcoin (BTC) and Ethereum (ETH) by using the API endpoints that the starter code supplies.\n",
    "\n",
    "3. Navigate the JSON response object to access the current price of each coin, and store each in a variable.\n",
    "\n",
    "    > **Hint** Note the specific identifier for each cryptocurrency in the API JSON response. The Bitcoin identifier is `1`, and the Ethereum identifier is `1027`.\n",
    "\n",
    "4. Calculate the value, in US dollars, of the current amount of each cryptocurrency and of the entire cryptocurrency wallet.\n",
    "\n"
   ]
  },
  {
   "cell_type": "code",
   "execution_count": 3,
   "metadata": {},
   "outputs": [],
   "source": [
    "# The current number of coins for each cryptocurrency asset held in the portfolio.\n",
    "btc_coins = 1.2\n",
    "eth_coins = 5.3"
   ]
  },
  {
   "cell_type": "markdown",
   "metadata": {},
   "source": [
    "#### Step 1: Create a variable named `monthly_income`, and set its value to `12000`."
   ]
  },
  {
   "cell_type": "code",
   "execution_count": 4,
   "metadata": {},
   "outputs": [],
   "source": [
    "# The monthly amount for the member's household income\n",
    "# YOUR CODE HERE\n",
    "monthly_income = 12000"
   ]
  },
  {
   "cell_type": "markdown",
   "metadata": {},
   "source": [
    "#### Review the endpoint URLs for the API calls to Free Crypto API in order to get the current pricing information for both BTC and ETH."
   ]
  },
  {
   "cell_type": "code",
   "execution_count": 5,
   "metadata": {},
   "outputs": [],
   "source": [
    "# The Free Crypto API Call endpoint URLs for the held cryptocurrency assets\n",
    "btc_url = \"https://api.alternative.me/v2/ticker/Bitcoin/?convert=USD\"\n",
    "eth_url = \"https://api.alternative.me/v2/ticker/Ethereum/?convert=USD\""
   ]
  },
  {
   "cell_type": "markdown",
   "metadata": {},
   "source": [
    "#### Step 2. Use the Requests library to get the current price (in US dollars) of Bitcoin (BTC) and Ethereum (ETH) by using the API endpoints that the starter code supplied."
   ]
  },
  {
   "cell_type": "code",
   "execution_count": 6,
   "metadata": {},
   "outputs": [
    {
     "name": "stdout",
     "output_type": "stream",
     "text": [
      "{\n",
      "    \"data\": {\n",
      "        \"1\": {\n",
      "            \"circulating_supply\": 18744581,\n",
      "            \"id\": 1,\n",
      "            \"last_updated\": 1624974898,\n",
      "            \"max_supply\": 21000000,\n",
      "            \"name\": \"Bitcoin\",\n",
      "            \"quotes\": {\n",
      "                \"USD\": {\n",
      "                    \"market_cap\": 683272099238,\n",
      "                    \"percent_change_1h\": 1.25845641855318,\n",
      "                    \"percent_change_24h\": 6.24117325530927,\n",
      "                    \"percent_change_7d\": 14.7575130675134,\n",
      "                    \"percentage_change_1h\": 1.25845641855318,\n",
      "                    \"percentage_change_24h\": 6.24117325530927,\n",
      "                    \"percentage_change_7d\": 14.7575130675134,\n",
      "                    \"price\": 36392.0,\n",
      "                    \"volume_24h\": 35371172622\n",
      "                }\n",
      "            },\n",
      "            \"rank\": 1,\n",
      "            \"symbol\": \"BTC\",\n",
      "            \"total_supply\": 18744581,\n",
      "            \"website_slug\": \"bitcoin\"\n",
      "        }\n",
      "    },\n",
      "    \"metadata\": {\n",
      "        \"error\": null,\n",
      "        \"num_cryptocurrencies\": 1279,\n",
      "        \"timestamp\": 1624974898\n",
      "    }\n",
      "}\n"
     ]
    }
   ],
   "source": [
    "# Using the Python requests library, make an API call to access the current price of BTC\n",
    "btc_response = requests.get(btc_url).json()\n",
    "\n",
    "# Use the json.dumps function to review the response data from the API call\n",
    "# Use the indent and sort_keys parameters to make the response object readable\n",
    "# YOUR CODE HERE\n",
    "print(json.dumps(btc_response, indent=4, sort_keys=True))"
   ]
  },
  {
   "cell_type": "code",
   "execution_count": 7,
   "metadata": {},
   "outputs": [
    {
     "name": "stdout",
     "output_type": "stream",
     "text": [
      "{\n",
      "    \"data\": {\n",
      "        \"1027\": {\n",
      "            \"circulating_supply\": 116489027,\n",
      "            \"id\": 1027,\n",
      "            \"last_updated\": 1624974890,\n",
      "            \"max_supply\": 0,\n",
      "            \"name\": \"Ethereum\",\n",
      "            \"quotes\": {\n",
      "                \"USD\": {\n",
      "                    \"market_cap\": 259496030182,\n",
      "                    \"percent_change_1h\": 1.77191393847235,\n",
      "                    \"percent_change_24h\": 10.9704031367746,\n",
      "                    \"percent_change_7d\": 17.1744785438483,\n",
      "                    \"percentage_change_1h\": 1.77191393847235,\n",
      "                    \"percentage_change_24h\": 10.9704031367746,\n",
      "                    \"percentage_change_7d\": 17.1744785438483,\n",
      "                    \"price\": 2226.46,\n",
      "                    \"volume_24h\": 31377249212\n",
      "                }\n",
      "            },\n",
      "            \"rank\": 2,\n",
      "            \"symbol\": \"ETH\",\n",
      "            \"total_supply\": 116489027,\n",
      "            \"website_slug\": \"ethereum\"\n",
      "        }\n",
      "    },\n",
      "    \"metadata\": {\n",
      "        \"error\": null,\n",
      "        \"num_cryptocurrencies\": 1279,\n",
      "        \"timestamp\": 1624974890\n",
      "    }\n",
      "}\n"
     ]
    }
   ],
   "source": [
    "# Using the Python requests library, make an API call to access the current price ETH\n",
    "eth_response = requests.get(eth_url).json()\n",
    "\n",
    "# Use the json.dumps function to review the response data from the API call\n",
    "# Use the indent and sort_keys parameters to make the response object readable\n",
    "# YOUR CODE HERE\n",
    "print(json.dumps(eth_response, indent=4, sort_keys=True))"
   ]
  },
  {
   "cell_type": "markdown",
   "metadata": {},
   "source": [
    "#### Step 3: Navigate the JSON response object to access the current price of each coin, and store each in a variable."
   ]
  },
  {
   "cell_type": "code",
   "execution_count": 8,
   "metadata": {},
   "outputs": [
    {
     "name": "stdout",
     "output_type": "stream",
     "text": [
      "36392.0\n"
     ]
    }
   ],
   "source": [
    "# Navigate the BTC response object to access the current price of BTC\n",
    "btc_price = btc_response['data']['1']['quotes']['USD'][\"price\"]\n",
    "\n",
    "# Print the current price of BTC\n",
    "# YOUR CODE HERE\n",
    "print(btc_price)"
   ]
  },
  {
   "cell_type": "code",
   "execution_count": 9,
   "metadata": {},
   "outputs": [
    {
     "name": "stdout",
     "output_type": "stream",
     "text": [
      "2226.46\n"
     ]
    }
   ],
   "source": [
    "# Navigate the BTC response object to access the current price of ETH\n",
    "eth_price = eth_response['data']['1027']['quotes']['USD'][\"price\"]\n",
    "\n",
    "# Print the current price of ETH\n",
    "# YOUR CODE HERE\n",
    "print(eth_price)"
   ]
  },
  {
   "cell_type": "markdown",
   "metadata": {},
   "source": [
    "### Step 4: Calculate the value, in US dollars, of the current amount of each cryptocurrency and of the entire cryptocurrency wallet."
   ]
  },
  {
   "cell_type": "code",
   "execution_count": 10,
   "metadata": {},
   "outputs": [
    {
     "name": "stdout",
     "output_type": "stream",
     "text": [
      "43670.4\n"
     ]
    }
   ],
   "source": [
    "# Compute the current value of the BTC holding \n",
    "btc_value = btc_price * btc_coins\n",
    "\n",
    "# Print current value of your holding in BTC\n",
    "# YOUR CODE HERE\n",
    "print(btc_value)"
   ]
  },
  {
   "cell_type": "code",
   "execution_count": 11,
   "metadata": {},
   "outputs": [
    {
     "name": "stdout",
     "output_type": "stream",
     "text": [
      "11800.238\n"
     ]
    }
   ],
   "source": [
    "# Compute the current value of the ETH holding \n",
    "eth_value = eth_price * eth_coins\n",
    "\n",
    "# Print current value of your holding in ETH\n",
    "# YOUR CODE HERE\n",
    "print(eth_value)"
   ]
  },
  {
   "cell_type": "code",
   "execution_count": 12,
   "metadata": {},
   "outputs": [
    {
     "name": "stdout",
     "output_type": "stream",
     "text": [
      "55470.638\n"
     ]
    }
   ],
   "source": [
    "# Compute the total value of the cryptocurrency wallet\n",
    "# Add the value of the BTC holding to the value of the ETH holding\n",
    "total_crypto_wallet = btc_value + eth_value\n",
    "\n",
    "# Print current cryptocurrency wallet balance\n",
    "# YOUR CODE HERE\n",
    "print(total_crypto_wallet)"
   ]
  },
  {
   "cell_type": "markdown",
   "metadata": {},
   "source": [
    "### Evaluate the Stock and Bond Holdings by Using the Alpaca SDK\n",
    "\n",
    "In this section, you’ll determine the current value of a member’s stock and bond holdings. You’ll make an API call to Alpaca via the Alpaca SDK to get the current closing prices of the SPDR S&P 500 ETF Trust (ticker: SPY) and of the iShares Core US Aggregate Bond ETF (ticker: AGG). For the prototype, assume that the member holds 110 shares of SPY, which represents the stock portion of their portfolio, and 200 shares of AGG, which represents the bond portion. To do all this, complete the following steps:\n",
    "\n",
    "1. In the `Starter_Code` folder, create an environment file (`.env`) to store the values of your Alpaca API key and Alpaca secret key.\n",
    "\n",
    "2. Set the variables for the Alpaca API and secret keys. Using the Alpaca SDK, create the Alpaca `tradeapi.REST` object. In this object, include the parameters for the Alpaca API key, the secret key, and the version number.\n",
    "\n",
    "3. Set the following parameters for the Alpaca API call:\n",
    "\n",
    "    - `tickers`: Use the tickers for the member’s stock and bond holdings.\n",
    "\n",
    "    - `timeframe`: Use a time frame of one day.\n",
    "\n",
    "    - `start_date` and `end_date`: Use the same date for these parameters, and format them with the date of the previous weekday (or `2020-08-07`). This is because you want the one closing price for the most-recent trading day.\n",
    "\n",
    "4. Get the current closing prices for `SPY` and `AGG` by using the Alpaca `get_barset` function. Format the response as a Pandas DataFrame by including the `df` property at the end of the `get_barset` function.\n",
    "\n",
    "5. Navigating the Alpaca response DataFrame, select the `SPY` and `AGG` closing prices, and store them as variables.\n",
    "\n",
    "6. Calculate the value, in US dollars, of the current amount of shares in each of the stock and bond portions of the portfolio, and print the results.\n"
   ]
  },
  {
   "cell_type": "markdown",
   "metadata": {},
   "source": [
    "#### Review the total number of shares held in both (SPY) and (AGG)."
   ]
  },
  {
   "cell_type": "code",
   "execution_count": 13,
   "metadata": {},
   "outputs": [],
   "source": [
    "# Current amount of shares held in both the stock (SPY) and bond (AGG) portion of the portfolio.\n",
    "spy_shares = 110\n",
    "agg_shares = 200\n"
   ]
  },
  {
   "cell_type": "markdown",
   "metadata": {},
   "source": [
    "#### Step 1: In the `Starter_Code` folder, create an environment file (`.env`) to store the values of your Alpaca API key and Alpaca secret key."
   ]
  },
  {
   "cell_type": "markdown",
   "metadata": {},
   "source": [
    "#### Step 2: Set the variables for the Alpaca API and secret keys. Using the Alpaca SDK, create the Alpaca `tradeapi.REST` object. In this object, include the parameters for the Alpaca API key, the secret key, and the version number."
   ]
  },
  {
   "cell_type": "code",
   "execution_count": 14,
   "metadata": {},
   "outputs": [],
   "source": [
    "# Set the variables for the Alpaca API and secret keys\n",
    "# YOUR CODE HERE\n",
    "# YOUR CODE HERE\n",
    "\n",
    "alpaca_api_key = os.getenv(\"ALPACA_API_KEY\")\n",
    "alpaca_secret_key = os.getenv(\"ALPACA_SECRET_KEY\")\n",
    "\n",
    "# Create the Alpaca tradeapi.REST object\n",
    "# YOUR CODE HERE\n",
    "\n",
    "alpaca = tradeapi.REST(\n",
    "    alpaca_api_key,\n",
    "    alpaca_secret_key,\n",
    "    api_version=\"v2\")"
   ]
  },
  {
   "cell_type": "markdown",
   "metadata": {},
   "source": [
    "#### Step 3: Set the following parameters for the Alpaca API call:\n",
    "\n",
    "- `tickers`: Use the tickers for the member’s stock and bond holdings.\n",
    "\n",
    "- `timeframe`: Use a time frame of one day.\n",
    "\n",
    "- `start_date` and `end_date`: Use the same date for these parameters, and format them with the date of the previous weekday (or `2020-08-07`). This is because you want the one closing price for the most-recent trading day.\n"
   ]
  },
  {
   "cell_type": "code",
   "execution_count": 15,
   "metadata": {},
   "outputs": [],
   "source": [
    "# Set the tickers for both the bond and stock portion of the portfolio\n",
    "# YOUR CODE HERE\n",
    "\n",
    "tickers = [\"SPY\", \"AGG\"]\n",
    "\n",
    "# Set timeframe to 1D \n",
    "# YOUR CODE HERE\n",
    "\n",
    "timeframe = \"1D\"\n",
    "\n",
    "# Format current date as ISO format\n",
    "# Set both the start and end date at the date of your prior weekday \n",
    "# This will give you the closing price of the previous trading day\n",
    "# Alternatively you can use a start and end date of 2020-08-07\n",
    "# YOUR CODE HERE\n",
    "# YOUR CODE HERE\n",
    "\n",
    "start_date = pd.Timestamp(\"2021-06-25\", tz=\"America/New_York\").isoformat()\n",
    "end_date = pd.Timestamp(\"2021-06-25\", tz=\"America/New_York\").isoformat()\n"
   ]
  },
  {
   "cell_type": "markdown",
   "metadata": {},
   "source": [
    "#### Step 4: Get the current closing prices for `SPY` and `AGG` by using the Alpaca `get_barset` function. Format the response as a Pandas DataFrame by including the `df` property at the end of the `get_barset` function."
   ]
  },
  {
   "cell_type": "code",
   "execution_count": 16,
   "metadata": {},
   "outputs": [
    {
     "data": {
      "text/html": [
       "<div>\n",
       "<style scoped>\n",
       "    .dataframe tbody tr th:only-of-type {\n",
       "        vertical-align: middle;\n",
       "    }\n",
       "\n",
       "    .dataframe tbody tr th {\n",
       "        vertical-align: top;\n",
       "    }\n",
       "\n",
       "    .dataframe thead tr th {\n",
       "        text-align: left;\n",
       "    }\n",
       "\n",
       "    .dataframe thead tr:last-of-type th {\n",
       "        text-align: right;\n",
       "    }\n",
       "</style>\n",
       "<table border=\"1\" class=\"dataframe\">\n",
       "  <thead>\n",
       "    <tr>\n",
       "      <th></th>\n",
       "      <th colspan=\"5\" halign=\"left\">AGG</th>\n",
       "      <th colspan=\"5\" halign=\"left\">SPY</th>\n",
       "    </tr>\n",
       "    <tr>\n",
       "      <th></th>\n",
       "      <th>open</th>\n",
       "      <th>high</th>\n",
       "      <th>low</th>\n",
       "      <th>close</th>\n",
       "      <th>volume</th>\n",
       "      <th>open</th>\n",
       "      <th>high</th>\n",
       "      <th>low</th>\n",
       "      <th>close</th>\n",
       "      <th>volume</th>\n",
       "    </tr>\n",
       "    <tr>\n",
       "      <th>time</th>\n",
       "      <th></th>\n",
       "      <th></th>\n",
       "      <th></th>\n",
       "      <th></th>\n",
       "      <th></th>\n",
       "      <th></th>\n",
       "      <th></th>\n",
       "      <th></th>\n",
       "      <th></th>\n",
       "      <th></th>\n",
       "    </tr>\n",
       "  </thead>\n",
       "  <tbody>\n",
       "    <tr>\n",
       "      <th>2021-06-25 00:00:00-04:00</th>\n",
       "      <td>115.11</td>\n",
       "      <td>115.13</td>\n",
       "      <td>114.7516</td>\n",
       "      <td>114.89</td>\n",
       "      <td>3987588</td>\n",
       "      <td>425.9</td>\n",
       "      <td>427.0943</td>\n",
       "      <td>425.55</td>\n",
       "      <td>426.57</td>\n",
       "      <td>50460394</td>\n",
       "    </tr>\n",
       "  </tbody>\n",
       "</table>\n",
       "</div>"
      ],
      "text/plain": [
       "                              AGG                                       SPY  \\\n",
       "                             open    high       low   close   volume   open   \n",
       "time                                                                          \n",
       "2021-06-25 00:00:00-04:00  115.11  115.13  114.7516  114.89  3987588  425.9   \n",
       "\n",
       "                                                               \n",
       "                               high     low   close    volume  \n",
       "time                                                           \n",
       "2021-06-25 00:00:00-04:00  427.0943  425.55  426.57  50460394  "
      ]
     },
     "execution_count": 16,
     "metadata": {},
     "output_type": "execute_result"
    }
   ],
   "source": [
    "# Use the Alpaca get_barset function to get current closing prices the portfolio\n",
    "# Be sure to set the `df` property after the function to format the response object as a DataFrame\n",
    "# YOUR CODE HERE\n",
    "\n",
    "df_portfolio = alpaca.get_barset(\n",
    "    tickers,\n",
    "    timeframe,\n",
    "    start = start_date,\n",
    "    end = end_date\n",
    ").df\n",
    "\n",
    "# Review the first 5 rows of the Alpaca DataFrame\n",
    "# YOUR CODE HERE\n",
    "\n",
    "df_portfolio.head()"
   ]
  },
  {
   "cell_type": "markdown",
   "metadata": {},
   "source": [
    "#### Step 5: Navigating the Alpaca response DataFrame, select the `SPY` and `AGG` closing prices, and store them as variables."
   ]
  },
  {
   "cell_type": "code",
   "execution_count": 50,
   "metadata": {},
   "outputs": [
    {
     "name": "stdout",
     "output_type": "stream",
     "text": [
      "114.89\n"
     ]
    }
   ],
   "source": [
    "# Access the closing price for AGG from the Alpaca DataFrame\n",
    "# Converting the value to a floating point number\n",
    "agg_close_price = df_portfolio.iloc[0][\"AGG\"][\"close\"].astype(float)\n",
    "\n",
    "# Print the AGG closing price\n",
    "# YOUR CODE HERE\n",
    "print(agg_close_price)"
   ]
  },
  {
   "cell_type": "code",
   "execution_count": 51,
   "metadata": {},
   "outputs": [
    {
     "name": "stdout",
     "output_type": "stream",
     "text": [
      "426.57\n"
     ]
    }
   ],
   "source": [
    "# Access the closing price for SPY from the Alpaca DataFrame\n",
    "# Converting the value to a floating point number\n",
    "spy_close_price = df_portfolio.iloc[0][\"SPY\"][\"close\"].astype(float)\n",
    "\n",
    "# Print the SPY closing price\n",
    "# YOUR CODE HERE\n",
    "print(spy_close_price)"
   ]
  },
  {
   "cell_type": "markdown",
   "metadata": {},
   "source": [
    "#### Step 6: Calculate the value, in US dollars, of the current amount of shares in each of the stock and bond portions of the portfolio, and print the results."
   ]
  },
  {
   "cell_type": "code",
   "execution_count": 52,
   "metadata": {},
   "outputs": [
    {
     "name": "stdout",
     "output_type": "stream",
     "text": [
      "22978.0\n"
     ]
    }
   ],
   "source": [
    "# Calculate the current value of the bond portion of the portfolio\n",
    "agg_value = agg_close_price * agg_shares\n",
    "\n",
    "# Print the current value of the bond portfolio\n",
    "# YOUR CODE HERE\n",
    "print (agg_value)"
   ]
  },
  {
   "cell_type": "code",
   "execution_count": 53,
   "metadata": {},
   "outputs": [
    {
     "name": "stdout",
     "output_type": "stream",
     "text": [
      "46922.7\n"
     ]
    }
   ],
   "source": [
    "# Calculate the current value of the bond portion of the portfolio\n",
    "spy_value = spy_close_price * spy_shares\n",
    "\n",
    "# Print the current value of the bond portfolio\n",
    "# YOUR CODE HERE\n",
    "print (spy_value)"
   ]
  },
  {
   "cell_type": "code",
   "execution_count": 54,
   "metadata": {},
   "outputs": [
    {
     "name": "stdout",
     "output_type": "stream",
     "text": [
      "69900.7\n"
     ]
    }
   ],
   "source": [
    "# Calculate the total value of the stock and bond portion of the portfolio\n",
    "total_stocks_bonds = agg_value + spy_value\n",
    "\n",
    "# Print the current balance of the stock and bond portion of the portfolio\n",
    "# YOUR CODE HERE\n",
    "print (total_stocks_bonds)"
   ]
  },
  {
   "cell_type": "code",
   "execution_count": 55,
   "metadata": {},
   "outputs": [
    {
     "name": "stdout",
     "output_type": "stream",
     "text": [
      "125371.33799999999\n"
     ]
    }
   ],
   "source": [
    "# Calculate the total value of the member's entire savings portfolio\n",
    "# Add the value of the cryptocurrency walled to the value of the total stocks and bonds\n",
    "total_portfolio = total_crypto_wallet + total_stocks_bonds\n",
    "\n",
    "# Print current cryptocurrency wallet balance\n",
    "# YOUR CODE HERE\n",
    "print(total_portfolio)"
   ]
  },
  {
   "cell_type": "markdown",
   "metadata": {},
   "source": [
    "### Evaluate the Emergency Fund\n",
    "\n",
    "In this section, you’ll use the valuations for the cryptocurrency wallet and for the stock and bond portions of the portfolio to determine if the credit union member has enough savings to build an emergency fund into their financial plan. To do this, complete the following steps:\n",
    "\n",
    "1. Create a Python list named `savings_data` that has two elements. The first element contains the total value of the cryptocurrency wallet. The second element contains the total value of the stock and bond portions of the portfolio.\n",
    "\n",
    "2. Use the `savings_data` list to create a Pandas DataFrame named `savings_df`, and then display this DataFrame. The function to create the DataFrame should take the following three parameters:\n",
    "\n",
    "    - `savings_data`: Use the list that you just created.\n",
    "\n",
    "    - `columns`: Set this parameter equal to a Python list with a single value called `amount`.\n",
    "\n",
    "    - `index`: Set this parameter equal to a Python list with the values of `crypto` and `stock/bond`.\n",
    "\n",
    "3. Use the `savings_df` DataFrame to plot a pie chart that visualizes the composition of the member’s portfolio. The y-axis of the pie chart uses `amount`. Be sure to add a title.\n",
    "\n",
    "4. Using Python, determine if the current portfolio has enough to create an emergency fund as part of the member’s financial plan. Ideally, an emergency fund should equal to three times the member’s monthly income. To do this, implement the following steps:\n",
    "\n",
    "    1. Create a variable named `emergency_fund_value`, and set it equal to three times the value of the member’s `monthly_income` of $12000. (You set this earlier in Part 1).\n",
    "\n",
    "    2. Create a series of three if statements to determine if the member’s total portfolio is large enough to fund the emergency portfolio:\n",
    "\n",
    "        1. If the total portfolio value is greater than the emergency fund value, display a message congratulating the member for having enough money in this fund.\n",
    "\n",
    "        2. Else if the total portfolio value is equal to the emergency fund value, display a message congratulating the member on reaching this important financial goal.\n",
    "\n",
    "        3. Else the total portfolio is less than the emergency fund value, so display a message showing how many dollars away the member is from reaching the goal. (Subtract the total portfolio value from the emergency fund value.)\n"
   ]
  },
  {
   "cell_type": "markdown",
   "metadata": {},
   "source": [
    "#### Step 1: Create a Python list named `savings_data` that has two elements. The first element contains the total value of the cryptocurrency wallet. The second element contains the total value of the stock and bond portions of the portfolio."
   ]
  },
  {
   "cell_type": "code",
   "execution_count": 56,
   "metadata": {},
   "outputs": [
    {
     "data": {
      "text/plain": [
       "[55470.638, 69900.7]"
      ]
     },
     "execution_count": 56,
     "metadata": {},
     "output_type": "execute_result"
    }
   ],
   "source": [
    "# Consolidate financial assets data into a Python list\n",
    "# YOUR CODE HERE\n",
    "\n",
    "savings_data =[total_crypto_wallet, total_stocks_bonds]\n",
    "\n",
    "# Review the Python list savings_data\n",
    "# YOUR CODE HERE\n",
    "savings_data"
   ]
  },
  {
   "cell_type": "markdown",
   "metadata": {},
   "source": [
    "#### Step 2: Use the `savings_data` list to create a Pandas DataFrame named `savings_df`, and then display this DataFrame. The function to create the DataFrame should take the following three parameters:\n",
    "\n",
    "- `savings_data`: Use the list that you just created.\n",
    "\n",
    "- `columns`: Set this parameter equal to a Python list with a single value called `amount`.\n",
    "\n",
    "- `index`: Set this parameter equal to a Python list with the values of `crypto` and `stock/bond`.\n"
   ]
  },
  {
   "cell_type": "code",
   "execution_count": 58,
   "metadata": {},
   "outputs": [
    {
     "data": {
      "text/html": [
       "<div>\n",
       "<style scoped>\n",
       "    .dataframe tbody tr th:only-of-type {\n",
       "        vertical-align: middle;\n",
       "    }\n",
       "\n",
       "    .dataframe tbody tr th {\n",
       "        vertical-align: top;\n",
       "    }\n",
       "\n",
       "    .dataframe thead th {\n",
       "        text-align: right;\n",
       "    }\n",
       "</style>\n",
       "<table border=\"1\" class=\"dataframe\">\n",
       "  <thead>\n",
       "    <tr style=\"text-align: right;\">\n",
       "      <th></th>\n",
       "      <th>amount</th>\n",
       "    </tr>\n",
       "  </thead>\n",
       "  <tbody>\n",
       "    <tr>\n",
       "      <th>crypto</th>\n",
       "      <td>55470.638</td>\n",
       "    </tr>\n",
       "    <tr>\n",
       "      <th>stock/bond</th>\n",
       "      <td>69900.700</td>\n",
       "    </tr>\n",
       "  </tbody>\n",
       "</table>\n",
       "</div>"
      ],
      "text/plain": [
       "               amount\n",
       "crypto      55470.638\n",
       "stock/bond  69900.700"
      ]
     },
     "execution_count": 58,
     "metadata": {},
     "output_type": "execute_result"
    }
   ],
   "source": [
    "# Create a Pandas DataFrame called savings_df \n",
    "# YOUR CODE HERE\n",
    "\n",
    "savings_df = pd.DataFrame(savings_data, columns = [\"amount\"], index = [\"crypto\", \"stock/bond\"])\n",
    "# Display the savings_df DataFrame\n",
    "# YOUR CODE HERE\n",
    "savings_df"
   ]
  },
  {
   "cell_type": "markdown",
   "metadata": {},
   "source": [
    "#### Step 3: Use the `savings_df` DataFrame to plot a pie chart that visualizes the composition of the member’s portfolio. The y-axis of the pie chart uses `amount`. Be sure to add a title."
   ]
  },
  {
   "cell_type": "code",
   "execution_count": 66,
   "metadata": {},
   "outputs": [
    {
     "data": {
      "text/plain": [
       "<AxesSubplot:title={'center':'Portfolio Pie Chart'}, ylabel='amount'>"
      ]
     },
     "execution_count": 66,
     "metadata": {},
     "output_type": "execute_result"
    },
    {
     "data": {
      "image/png": "[encoded data removed]",
      "text/plain": [
       "<Figure size 432x288 with 1 Axes>"
      ]
     },
     "metadata": {},
     "output_type": "display_data"
    }
   ],
   "source": [
    "# Plot the total value of the member's portfolio (crypto and stock/bond) in a pie chart\n",
    "# YOUR CODE HERE\n",
    "savings_df.plot.pie(y = \"amount\", title=\"Portfolio Pie Chart\")"
   ]
  },
  {
   "cell_type": "markdown",
   "metadata": {},
   "source": [
    "#### Step 4: Using Python, determine if the current portfolio has enough to create an emergency fund as part of the member’s financial plan. Ideally, an emergency fund should equal to three times the member’s monthly income. To do this, implement the following steps:\n",
    "\n",
    "Step 1. Create a variable named `emergency_fund_value`, and set it equal to three times the value of the member’s `monthly_income` of 12000. (You set this earlier in Part 1).\n",
    "\n",
    "Step 2. Create a series of three if statements to determine if the member’s total portfolio is large enough to fund the emergency portfolio:\n",
    "\n",
    "* If the total portfolio value is greater than the emergency fund value, display a message congratulating the member for having enough money in this fund.\n",
    "\n",
    "* Else if the total portfolio value is equal to the emergency fund value, display a message congratulating the member on reaching this important financial goal.\n",
    "\n",
    "* Else the total portfolio is less than the emergency fund value, so display a message showing how many dollars away the member is from reaching the goal. (Subtract the total portfolio value from the emergency fund value.)\n"
   ]
  },
  {
   "cell_type": "markdown",
   "metadata": {},
   "source": [
    "##### Step 4-1: Create a variable named `emergency_fund_value`, and set it equal to three times the value of the member’s `monthly_income` of 12000. (You set this earlier in Part 1)."
   ]
  },
  {
   "cell_type": "code",
   "execution_count": 67,
   "metadata": {},
   "outputs": [],
   "source": [
    "# Create a variable named emergency_fund_value\n",
    "# YOUR CODE HERE\n",
    "emergency_fund_value = monthly_income * 3"
   ]
  },
  {
   "cell_type": "markdown",
   "metadata": {},
   "source": [
    "##### Step 4-2: Create a series of three if statements to determine if the member’s total portfolio is large enough to fund the emergency portfolio:\n",
    "\n",
    "* If the total portfolio value is greater than the emergency fund value, display a message congratulating the member for having enough money in this fund.\n",
    "\n",
    "* Else if the total portfolio value is equal to the emergency fund value, display a message congratulating the member on reaching this important financial goal.\n",
    "\n",
    "* Else the total portfolio is less than the emergency fund value, so display a message showing how many dollars away the member is from reaching the goal. (Subtract the total portfolio value from the emergency fund value.)"
   ]
  },
  {
   "cell_type": "code",
   "execution_count": 70,
   "metadata": {},
   "outputs": [
    {
     "name": "stdout",
     "output_type": "stream",
     "text": [
      "Congratulations for having enough money in this fund!\n"
     ]
    }
   ],
   "source": [
    "# Evaluate the possibility of creating an emergency fund with 3 conditions:\n",
    "# YOUR CODE HERE\n",
    "# YOUR CODE HERE\n",
    "# YOUR CODE HERE\n",
    "if total_portfolio > emergency_fund_value: \n",
    "    print(\"Congratulations for having enough money in this fund!\")\n",
    "elif total_portfolio == emergency_fund_value:\n",
    "    print(\"Congratulations for reaching this important financial goal!\")\n",
    "else:\n",
    "    print(f\"You are {emergency_fund_value - total_portfolio} dollars away from reaching the goal\")"
   ]
  },
  {
   "cell_type": "markdown",
   "metadata": {},
   "source": [
    "## Part 2: Create a Financial Planner for Retirement"
   ]
  },
  {
   "cell_type": "markdown",
   "metadata": {},
   "source": [
    "### Create the Monte Carlo Simulation\n",
    "\n",
    "In this section, you’ll use the MCForecastTools library to create a Monte Carlo simulation for the member’s savings portfolio. To do this, complete the following steps:\n",
    "\n",
    "1. Make an API call via the Alpaca SDK to get 10 years of historical closing prices for a traditional 60/40 portfolio split: 60% stocks (SPY) and 40% bonds (AGG).\n",
    "\n",
    "2. Run a Monte Carlo simulation of 500 samples and 30 years for the 60/40 portfolio, and then plot the results.The following image shows the overlay line plot resulting from a simulation with these characteristics. However, because a random number generator is used to run each live Monte Carlo simulation, your image will differ slightly from this exact image:\n",
    "\n",
    "![A screenshot depicts the resulting plot.](Images/5-4-monte-carlo-line-plot.png)\n",
    "\n",
    "3. Plot the probability distribution of the Monte Carlo simulation. Plot the probability distribution of the Monte Carlo simulation. The following image shows the histogram plot resulting from a simulation with these characteristics. However, because a random number generator is used to run each live Monte Carlo simulation, your image will differ slightly from this exact image:\n",
    "\n",
    "![A screenshot depicts the histogram plot.](Images/5-4-monte-carlo-histogram.png)\n",
    "\n",
    "4. Generate the summary statistics for the Monte Carlo simulation.\n",
    "\n"
   ]
  },
  {
   "cell_type": "markdown",
   "metadata": {},
   "source": [
    "#### Step 1: Make an API call via the Alpaca SDK to get 10 years of historical closing prices for a traditional 60/40 portfolio split: 60% stocks (SPY) and 40% bonds (AGG)."
   ]
  },
  {
   "cell_type": "code",
   "execution_count": 71,
   "metadata": {},
   "outputs": [],
   "source": [
    "# Set start and end dates of 10 years back from your current date\n",
    "# Alternatively, you can use an end date of 2020-08-07 and work 10 years back from that date \n",
    "# YOUR CODE HERE\n",
    "# YOUR CODE HERE\n",
    "\n",
    "\n",
    "start_date = pd.Timestamp(\"2011-06-25\", tz=\"America/New_York\").isoformat()\n",
    "end_date = pd.Timestamp(\"2021-06-25\", tz=\"America/New_York\").isoformat()"
   ]
  },
  {
   "cell_type": "code",
   "execution_count": 85,
   "metadata": {},
   "outputs": [
    {
     "data": {
      "text/html": [
       "<div>\n",
       "<style scoped>\n",
       "    .dataframe tbody tr th:only-of-type {\n",
       "        vertical-align: middle;\n",
       "    }\n",
       "\n",
       "    .dataframe tbody tr th {\n",
       "        vertical-align: top;\n",
       "    }\n",
       "\n",
       "    .dataframe thead tr th {\n",
       "        text-align: left;\n",
       "    }\n",
       "\n",
       "    .dataframe thead tr:last-of-type th {\n",
       "        text-align: right;\n",
       "    }\n",
       "</style>\n",
       "<table border=\"1\" class=\"dataframe\">\n",
       "  <thead>\n",
       "    <tr>\n",
       "      <th></th>\n",
       "      <th colspan=\"5\" halign=\"left\">AGG</th>\n",
       "      <th colspan=\"5\" halign=\"left\">SPY</th>\n",
       "    </tr>\n",
       "    <tr>\n",
       "      <th></th>\n",
       "      <th>open</th>\n",
       "      <th>high</th>\n",
       "      <th>low</th>\n",
       "      <th>close</th>\n",
       "      <th>volume</th>\n",
       "      <th>open</th>\n",
       "      <th>high</th>\n",
       "      <th>low</th>\n",
       "      <th>close</th>\n",
       "      <th>volume</th>\n",
       "    </tr>\n",
       "    <tr>\n",
       "      <th>time</th>\n",
       "      <th></th>\n",
       "      <th></th>\n",
       "      <th></th>\n",
       "      <th></th>\n",
       "      <th></th>\n",
       "      <th></th>\n",
       "      <th></th>\n",
       "      <th></th>\n",
       "      <th></th>\n",
       "      <th></th>\n",
       "    </tr>\n",
       "  </thead>\n",
       "  <tbody>\n",
       "    <tr>\n",
       "      <th>2017-07-06 00:00:00-04:00</th>\n",
       "      <td>108.95</td>\n",
       "      <td>109.00</td>\n",
       "      <td>108.82</td>\n",
       "      <td>108.950</td>\n",
       "      <td>2057393.0</td>\n",
       "      <td>NaN</td>\n",
       "      <td>NaN</td>\n",
       "      <td>NaN</td>\n",
       "      <td>NaN</td>\n",
       "      <td>NaN</td>\n",
       "    </tr>\n",
       "    <tr>\n",
       "      <th>2017-07-07 00:00:00-04:00</th>\n",
       "      <td>108.89</td>\n",
       "      <td>108.95</td>\n",
       "      <td>108.83</td>\n",
       "      <td>108.870</td>\n",
       "      <td>2536724.0</td>\n",
       "      <td>241.21</td>\n",
       "      <td>242.28</td>\n",
       "      <td>241.02</td>\n",
       "      <td>242.10</td>\n",
       "      <td>36831437.0</td>\n",
       "    </tr>\n",
       "    <tr>\n",
       "      <th>2017-07-10 00:00:00-04:00</th>\n",
       "      <td>108.97</td>\n",
       "      <td>109.02</td>\n",
       "      <td>108.89</td>\n",
       "      <td>108.960</td>\n",
       "      <td>1940466.0</td>\n",
       "      <td>241.95</td>\n",
       "      <td>242.80</td>\n",
       "      <td>241.76</td>\n",
       "      <td>242.36</td>\n",
       "      <td>27912725.0</td>\n",
       "    </tr>\n",
       "    <tr>\n",
       "      <th>2017-07-11 00:00:00-04:00</th>\n",
       "      <td>108.97</td>\n",
       "      <td>109.10</td>\n",
       "      <td>108.93</td>\n",
       "      <td>109.055</td>\n",
       "      <td>1613602.0</td>\n",
       "      <td>242.16</td>\n",
       "      <td>242.55</td>\n",
       "      <td>240.85</td>\n",
       "      <td>242.16</td>\n",
       "      <td>40900622.0</td>\n",
       "    </tr>\n",
       "    <tr>\n",
       "      <th>2017-07-12 00:00:00-04:00</th>\n",
       "      <td>109.38</td>\n",
       "      <td>109.43</td>\n",
       "      <td>109.26</td>\n",
       "      <td>109.380</td>\n",
       "      <td>1787218.0</td>\n",
       "      <td>243.30</td>\n",
       "      <td>244.20</td>\n",
       "      <td>243.30</td>\n",
       "      <td>243.98</td>\n",
       "      <td>38779965.0</td>\n",
       "    </tr>\n",
       "  </tbody>\n",
       "</table>\n",
       "</div>"
      ],
      "text/plain": [
       "                              AGG                                         SPY  \\\n",
       "                             open    high     low    close     volume    open   \n",
       "time                                                                            \n",
       "2017-07-06 00:00:00-04:00  108.95  109.00  108.82  108.950  2057393.0     NaN   \n",
       "2017-07-07 00:00:00-04:00  108.89  108.95  108.83  108.870  2536724.0  241.21   \n",
       "2017-07-10 00:00:00-04:00  108.97  109.02  108.89  108.960  1940466.0  241.95   \n",
       "2017-07-11 00:00:00-04:00  108.97  109.10  108.93  109.055  1613602.0  242.16   \n",
       "2017-07-12 00:00:00-04:00  109.38  109.43  109.26  109.380  1787218.0  243.30   \n",
       "\n",
       "                                                               \n",
       "                             high     low   close      volume  \n",
       "time                                                           \n",
       "2017-07-06 00:00:00-04:00     NaN     NaN     NaN         NaN  \n",
       "2017-07-07 00:00:00-04:00  242.28  241.02  242.10  36831437.0  \n",
       "2017-07-10 00:00:00-04:00  242.80  241.76  242.36  27912725.0  \n",
       "2017-07-11 00:00:00-04:00  242.55  240.85  242.16  40900622.0  \n",
       "2017-07-12 00:00:00-04:00  244.20  243.30  243.98  38779965.0  "
      ]
     },
     "execution_count": 85,
     "metadata": {},
     "output_type": "execute_result"
    }
   ],
   "source": [
    "# Use the Alpaca get_barset function to make the API call to get the 10 years worth of pricing data\n",
    "# The tickers and timeframe parameters should have been set in Part 1 of this activity \n",
    "# The start and end dates should be updated with the information set above\n",
    "# Remember to add the df property to the end of the call so the response is returned as a DataFrame\n",
    "# YOUR CODE HERE\n",
    "\n",
    "df_portfolio = alpaca.get_barset(\n",
    "    tickers,\n",
    "    timeframe,\n",
    "    start = start_date,\n",
    "    end = end_date,\n",
    "    limit = 1000\n",
    ").df\n",
    "\n",
    "# Display both the first and last five rows of the DataFrame\n",
    "# YOUR CODE HERE\n",
    "# YOUR CODE HERE\n",
    "\n",
    "df_portfolio.head()\n"
   ]
  },
  {
   "cell_type": "markdown",
   "metadata": {},
   "source": [
    "#### Step 2: Run a Monte Carlo simulation of 500 samples and 30 years for the 60/40 portfolio, and then plot the results."
   ]
  },
  {
   "cell_type": "code",
   "execution_count": 86,
   "metadata": {},
   "outputs": [
    {
     "data": {
      "text/html": [
       "<div>\n",
       "<style scoped>\n",
       "    .dataframe tbody tr th:only-of-type {\n",
       "        vertical-align: middle;\n",
       "    }\n",
       "\n",
       "    .dataframe tbody tr th {\n",
       "        vertical-align: top;\n",
       "    }\n",
       "\n",
       "    .dataframe thead tr th {\n",
       "        text-align: left;\n",
       "    }\n",
       "\n",
       "    .dataframe thead tr:last-of-type th {\n",
       "        text-align: right;\n",
       "    }\n",
       "</style>\n",
       "<table border=\"1\" class=\"dataframe\">\n",
       "  <thead>\n",
       "    <tr>\n",
       "      <th></th>\n",
       "      <th colspan=\"6\" halign=\"left\">AGG</th>\n",
       "      <th colspan=\"6\" halign=\"left\">SPY</th>\n",
       "    </tr>\n",
       "    <tr>\n",
       "      <th></th>\n",
       "      <th>open</th>\n",
       "      <th>high</th>\n",
       "      <th>low</th>\n",
       "      <th>close</th>\n",
       "      <th>volume</th>\n",
       "      <th>daily_return</th>\n",
       "      <th>open</th>\n",
       "      <th>high</th>\n",
       "      <th>low</th>\n",
       "      <th>close</th>\n",
       "      <th>volume</th>\n",
       "      <th>daily_return</th>\n",
       "    </tr>\n",
       "    <tr>\n",
       "      <th>time</th>\n",
       "      <th></th>\n",
       "      <th></th>\n",
       "      <th></th>\n",
       "      <th></th>\n",
       "      <th></th>\n",
       "      <th></th>\n",
       "      <th></th>\n",
       "      <th></th>\n",
       "      <th></th>\n",
       "      <th></th>\n",
       "      <th></th>\n",
       "      <th></th>\n",
       "    </tr>\n",
       "  </thead>\n",
       "  <tbody>\n",
       "    <tr>\n",
       "      <th>2017-07-06 00:00:00-04:00</th>\n",
       "      <td>108.95</td>\n",
       "      <td>109.00</td>\n",
       "      <td>108.82</td>\n",
       "      <td>108.950</td>\n",
       "      <td>2057393.0</td>\n",
       "      <td>NaN</td>\n",
       "      <td>NaN</td>\n",
       "      <td>NaN</td>\n",
       "      <td>NaN</td>\n",
       "      <td>NaN</td>\n",
       "      <td>NaN</td>\n",
       "      <td>NaN</td>\n",
       "    </tr>\n",
       "    <tr>\n",
       "      <th>2017-07-07 00:00:00-04:00</th>\n",
       "      <td>108.89</td>\n",
       "      <td>108.95</td>\n",
       "      <td>108.83</td>\n",
       "      <td>108.870</td>\n",
       "      <td>2536724.0</td>\n",
       "      <td>-0.000734</td>\n",
       "      <td>241.21</td>\n",
       "      <td>242.28</td>\n",
       "      <td>241.02</td>\n",
       "      <td>242.10</td>\n",
       "      <td>36831437.0</td>\n",
       "      <td>NaN</td>\n",
       "    </tr>\n",
       "    <tr>\n",
       "      <th>2017-07-10 00:00:00-04:00</th>\n",
       "      <td>108.97</td>\n",
       "      <td>109.02</td>\n",
       "      <td>108.89</td>\n",
       "      <td>108.960</td>\n",
       "      <td>1940466.0</td>\n",
       "      <td>0.000827</td>\n",
       "      <td>241.95</td>\n",
       "      <td>242.80</td>\n",
       "      <td>241.76</td>\n",
       "      <td>242.36</td>\n",
       "      <td>27912725.0</td>\n",
       "      <td>0.001074</td>\n",
       "    </tr>\n",
       "    <tr>\n",
       "      <th>2017-07-11 00:00:00-04:00</th>\n",
       "      <td>108.97</td>\n",
       "      <td>109.10</td>\n",
       "      <td>108.93</td>\n",
       "      <td>109.055</td>\n",
       "      <td>1613602.0</td>\n",
       "      <td>0.000872</td>\n",
       "      <td>242.16</td>\n",
       "      <td>242.55</td>\n",
       "      <td>240.85</td>\n",
       "      <td>242.16</td>\n",
       "      <td>40900622.0</td>\n",
       "      <td>-0.000825</td>\n",
       "    </tr>\n",
       "    <tr>\n",
       "      <th>2017-07-12 00:00:00-04:00</th>\n",
       "      <td>109.38</td>\n",
       "      <td>109.43</td>\n",
       "      <td>109.26</td>\n",
       "      <td>109.380</td>\n",
       "      <td>1787218.0</td>\n",
       "      <td>0.002980</td>\n",
       "      <td>243.30</td>\n",
       "      <td>244.20</td>\n",
       "      <td>243.30</td>\n",
       "      <td>243.98</td>\n",
       "      <td>38779965.0</td>\n",
       "      <td>0.007516</td>\n",
       "    </tr>\n",
       "  </tbody>\n",
       "</table>\n",
       "</div>"
      ],
      "text/plain": [
       "                              AGG                                      \\\n",
       "                             open    high     low    close     volume   \n",
       "time                                                                    \n",
       "2017-07-06 00:00:00-04:00  108.95  109.00  108.82  108.950  2057393.0   \n",
       "2017-07-07 00:00:00-04:00  108.89  108.95  108.83  108.870  2536724.0   \n",
       "2017-07-10 00:00:00-04:00  108.97  109.02  108.89  108.960  1940466.0   \n",
       "2017-07-11 00:00:00-04:00  108.97  109.10  108.93  109.055  1613602.0   \n",
       "2017-07-12 00:00:00-04:00  109.38  109.43  109.26  109.380  1787218.0   \n",
       "\n",
       "                                           SPY                          \\\n",
       "                          daily_return    open    high     low   close   \n",
       "time                                                                     \n",
       "2017-07-06 00:00:00-04:00          NaN     NaN     NaN     NaN     NaN   \n",
       "2017-07-07 00:00:00-04:00    -0.000734  241.21  242.28  241.02  242.10   \n",
       "2017-07-10 00:00:00-04:00     0.000827  241.95  242.80  241.76  242.36   \n",
       "2017-07-11 00:00:00-04:00     0.000872  242.16  242.55  240.85  242.16   \n",
       "2017-07-12 00:00:00-04:00     0.002980  243.30  244.20  243.30  243.98   \n",
       "\n",
       "                                                    \n",
       "                               volume daily_return  \n",
       "time                                                \n",
       "2017-07-06 00:00:00-04:00         NaN          NaN  \n",
       "2017-07-07 00:00:00-04:00  36831437.0          NaN  \n",
       "2017-07-10 00:00:00-04:00  27912725.0     0.001074  \n",
       "2017-07-11 00:00:00-04:00  40900622.0    -0.000825  \n",
       "2017-07-12 00:00:00-04:00  38779965.0     0.007516  "
      ]
     },
     "execution_count": 86,
     "metadata": {},
     "output_type": "execute_result"
    }
   ],
   "source": [
    "# Configure the Monte Carlo simulation to forecast 30 years cumulative returns\n",
    "# The weights should be split 40% to AGG and 60% to SPY.\n",
    "# Run 500 samples.\n",
    "# YOUR CODE HERE\n",
    "\n",
    "MC_thirtyyear = MCSimulation(\n",
    "    portfolio_data = df_portfolio,\n",
    "    weights = [.40,.60],\n",
    "    num_simulation = 500,\n",
    "    num_trading_days = 252*30\n",
    ")\n",
    "\n",
    "# Review the simulation input data\n",
    "# YOUR CODE HERE\n",
    "MC_thirtyyear.portfolio_data.head()"
   ]
  },
  {
   "cell_type": "code",
   "execution_count": 87,
   "metadata": {},
   "outputs": [
    {
     "name": "stdout",
     "output_type": "stream",
     "text": [
      "Running Monte Carlo simulation number 0.\n",
      "Running Monte Carlo simulation number 10.\n",
      "Running Monte Carlo simulation number 20.\n",
      "Running Monte Carlo simulation number 30.\n",
      "Running Monte Carlo simulation number 40.\n",
      "Running Monte Carlo simulation number 50.\n",
      "Running Monte Carlo simulation number 60.\n",
      "Running Monte Carlo simulation number 70.\n",
      "Running Monte Carlo simulation number 80.\n",
      "Running Monte Carlo simulation number 90.\n",
      "Running Monte Carlo simulation number 100.\n",
      "Running Monte Carlo simulation number 110.\n",
      "Running Monte Carlo simulation number 120.\n",
      "Running Monte Carlo simulation number 130.\n",
      "Running Monte Carlo simulation number 140.\n",
      "Running Monte Carlo simulation number 150.\n",
      "Running Monte Carlo simulation number 160.\n",
      "Running Monte Carlo simulation number 170.\n",
      "Running Monte Carlo simulation number 180.\n",
      "Running Monte Carlo simulation number 190.\n",
      "Running Monte Carlo simulation number 200.\n",
      "Running Monte Carlo simulation number 210.\n",
      "Running Monte Carlo simulation number 220.\n",
      "Running Monte Carlo simulation number 230.\n",
      "Running Monte Carlo simulation number 240.\n",
      "Running Monte Carlo simulation number 250.\n",
      "Running Monte Carlo simulation number 260.\n",
      "Running Monte Carlo simulation number 270.\n",
      "Running Monte Carlo simulation number 280.\n",
      "Running Monte Carlo simulation number 290.\n",
      "Running Monte Carlo simulation number 300.\n",
      "Running Monte Carlo simulation number 310.\n",
      "Running Monte Carlo simulation number 320.\n",
      "Running Monte Carlo simulation number 330.\n",
      "Running Monte Carlo simulation number 340.\n",
      "Running Monte Carlo simulation number 350.\n",
      "Running Monte Carlo simulation number 360.\n",
      "Running Monte Carlo simulation number 370.\n",
      "Running Monte Carlo simulation number 380.\n",
      "Running Monte Carlo simulation number 390.\n",
      "Running Monte Carlo simulation number 400.\n",
      "Running Monte Carlo simulation number 410.\n",
      "Running Monte Carlo simulation number 420.\n",
      "Running Monte Carlo simulation number 430.\n",
      "Running Monte Carlo simulation number 440.\n",
      "Running Monte Carlo simulation number 450.\n",
      "Running Monte Carlo simulation number 460.\n",
      "Running Monte Carlo simulation number 470.\n",
      "Running Monte Carlo simulation number 480.\n",
      "Running Monte Carlo simulation number 490.\n"
     ]
    },
    {
     "data": {
      "text/html": [
       "<div>\n",
       "<style scoped>\n",
       "    .dataframe tbody tr th:only-of-type {\n",
       "        vertical-align: middle;\n",
       "    }\n",
       "\n",
       "    .dataframe tbody tr th {\n",
       "        vertical-align: top;\n",
       "    }\n",
       "\n",
       "    .dataframe thead th {\n",
       "        text-align: right;\n",
       "    }\n",
       "</style>\n",
       "<table border=\"1\" class=\"dataframe\">\n",
       "  <thead>\n",
       "    <tr style=\"text-align: right;\">\n",
       "      <th></th>\n",
       "      <th>0</th>\n",
       "      <th>1</th>\n",
       "      <th>2</th>\n",
       "      <th>3</th>\n",
       "      <th>4</th>\n",
       "      <th>5</th>\n",
       "      <th>6</th>\n",
       "      <th>7</th>\n",
       "      <th>8</th>\n",
       "      <th>9</th>\n",
       "      <th>...</th>\n",
       "      <th>490</th>\n",
       "      <th>491</th>\n",
       "      <th>492</th>\n",
       "      <th>493</th>\n",
       "      <th>494</th>\n",
       "      <th>495</th>\n",
       "      <th>496</th>\n",
       "      <th>497</th>\n",
       "      <th>498</th>\n",
       "      <th>499</th>\n",
       "    </tr>\n",
       "  </thead>\n",
       "  <tbody>\n",
       "    <tr>\n",
       "      <th>0</th>\n",
       "      <td>1.000000</td>\n",
       "      <td>1.000000</td>\n",
       "      <td>1.000000</td>\n",
       "      <td>1.000000</td>\n",
       "      <td>1.000000</td>\n",
       "      <td>1.000000</td>\n",
       "      <td>1.000000</td>\n",
       "      <td>1.000000</td>\n",
       "      <td>1.000000</td>\n",
       "      <td>1.000000</td>\n",
       "      <td>...</td>\n",
       "      <td>1.000000</td>\n",
       "      <td>1.000000</td>\n",
       "      <td>1.000000</td>\n",
       "      <td>1.000000</td>\n",
       "      <td>1.000000</td>\n",
       "      <td>1.000000</td>\n",
       "      <td>1.000000</td>\n",
       "      <td>1.000000</td>\n",
       "      <td>1.000000</td>\n",
       "      <td>1.000000</td>\n",
       "    </tr>\n",
       "    <tr>\n",
       "      <th>1</th>\n",
       "      <td>1.005248</td>\n",
       "      <td>1.012048</td>\n",
       "      <td>0.993730</td>\n",
       "      <td>0.994370</td>\n",
       "      <td>1.002762</td>\n",
       "      <td>1.006618</td>\n",
       "      <td>0.995111</td>\n",
       "      <td>1.006410</td>\n",
       "      <td>0.988531</td>\n",
       "      <td>1.003174</td>\n",
       "      <td>...</td>\n",
       "      <td>1.015673</td>\n",
       "      <td>1.003419</td>\n",
       "      <td>1.000416</td>\n",
       "      <td>1.007964</td>\n",
       "      <td>0.996313</td>\n",
       "      <td>0.995849</td>\n",
       "      <td>1.005216</td>\n",
       "      <td>1.002326</td>\n",
       "      <td>1.009463</td>\n",
       "      <td>0.999602</td>\n",
       "    </tr>\n",
       "    <tr>\n",
       "      <th>2</th>\n",
       "      <td>1.019905</td>\n",
       "      <td>0.999432</td>\n",
       "      <td>0.993169</td>\n",
       "      <td>1.002775</td>\n",
       "      <td>1.006664</td>\n",
       "      <td>1.012525</td>\n",
       "      <td>0.995956</td>\n",
       "      <td>1.002376</td>\n",
       "      <td>0.990377</td>\n",
       "      <td>1.000444</td>\n",
       "      <td>...</td>\n",
       "      <td>1.025757</td>\n",
       "      <td>0.985141</td>\n",
       "      <td>1.003891</td>\n",
       "      <td>1.022343</td>\n",
       "      <td>1.000484</td>\n",
       "      <td>1.003092</td>\n",
       "      <td>1.006826</td>\n",
       "      <td>1.000509</td>\n",
       "      <td>1.016212</td>\n",
       "      <td>1.000130</td>\n",
       "    </tr>\n",
       "    <tr>\n",
       "      <th>3</th>\n",
       "      <td>1.026501</td>\n",
       "      <td>1.006705</td>\n",
       "      <td>1.001702</td>\n",
       "      <td>1.004071</td>\n",
       "      <td>0.998581</td>\n",
       "      <td>1.018411</td>\n",
       "      <td>1.001317</td>\n",
       "      <td>1.020720</td>\n",
       "      <td>0.992662</td>\n",
       "      <td>0.999925</td>\n",
       "      <td>...</td>\n",
       "      <td>1.015859</td>\n",
       "      <td>0.982947</td>\n",
       "      <td>1.001083</td>\n",
       "      <td>1.013558</td>\n",
       "      <td>0.983568</td>\n",
       "      <td>0.993182</td>\n",
       "      <td>1.007440</td>\n",
       "      <td>1.001891</td>\n",
       "      <td>1.015405</td>\n",
       "      <td>1.005313</td>\n",
       "    </tr>\n",
       "    <tr>\n",
       "      <th>4</th>\n",
       "      <td>1.029545</td>\n",
       "      <td>1.012238</td>\n",
       "      <td>1.001404</td>\n",
       "      <td>1.006831</td>\n",
       "      <td>0.991070</td>\n",
       "      <td>1.024166</td>\n",
       "      <td>0.995496</td>\n",
       "      <td>1.018011</td>\n",
       "      <td>1.003555</td>\n",
       "      <td>0.998590</td>\n",
       "      <td>...</td>\n",
       "      <td>1.007600</td>\n",
       "      <td>0.991305</td>\n",
       "      <td>1.001941</td>\n",
       "      <td>1.009294</td>\n",
       "      <td>0.990148</td>\n",
       "      <td>0.999723</td>\n",
       "      <td>1.024824</td>\n",
       "      <td>1.004899</td>\n",
       "      <td>1.017980</td>\n",
       "      <td>1.002056</td>\n",
       "    </tr>\n",
       "    <tr>\n",
       "      <th>...</th>\n",
       "      <td>...</td>\n",
       "      <td>...</td>\n",
       "      <td>...</td>\n",
       "      <td>...</td>\n",
       "      <td>...</td>\n",
       "      <td>...</td>\n",
       "      <td>...</td>\n",
       "      <td>...</td>\n",
       "      <td>...</td>\n",
       "      <td>...</td>\n",
       "      <td>...</td>\n",
       "      <td>...</td>\n",
       "      <td>...</td>\n",
       "      <td>...</td>\n",
       "      <td>...</td>\n",
       "      <td>...</td>\n",
       "      <td>...</td>\n",
       "      <td>...</td>\n",
       "      <td>...</td>\n",
       "      <td>...</td>\n",
       "      <td>...</td>\n",
       "    </tr>\n",
       "    <tr>\n",
       "      <th>7556</th>\n",
       "      <td>13.440219</td>\n",
       "      <td>63.744388</td>\n",
       "      <td>32.940565</td>\n",
       "      <td>10.278335</td>\n",
       "      <td>17.815443</td>\n",
       "      <td>8.427154</td>\n",
       "      <td>7.872389</td>\n",
       "      <td>57.329549</td>\n",
       "      <td>19.721404</td>\n",
       "      <td>16.510037</td>\n",
       "      <td>...</td>\n",
       "      <td>92.680980</td>\n",
       "      <td>21.493106</td>\n",
       "      <td>8.292590</td>\n",
       "      <td>13.465199</td>\n",
       "      <td>15.735465</td>\n",
       "      <td>10.139069</td>\n",
       "      <td>9.216978</td>\n",
       "      <td>35.681622</td>\n",
       "      <td>8.390566</td>\n",
       "      <td>13.735707</td>\n",
       "    </tr>\n",
       "    <tr>\n",
       "      <th>7557</th>\n",
       "      <td>13.579637</td>\n",
       "      <td>64.257316</td>\n",
       "      <td>33.513935</td>\n",
       "      <td>10.302704</td>\n",
       "      <td>17.403805</td>\n",
       "      <td>8.446727</td>\n",
       "      <td>7.914051</td>\n",
       "      <td>57.071696</td>\n",
       "      <td>19.548087</td>\n",
       "      <td>16.310656</td>\n",
       "      <td>...</td>\n",
       "      <td>92.580604</td>\n",
       "      <td>21.566700</td>\n",
       "      <td>8.349082</td>\n",
       "      <td>13.413258</td>\n",
       "      <td>15.872579</td>\n",
       "      <td>10.120663</td>\n",
       "      <td>9.308842</td>\n",
       "      <td>35.402380</td>\n",
       "      <td>8.465428</td>\n",
       "      <td>13.821850</td>\n",
       "    </tr>\n",
       "    <tr>\n",
       "      <th>7558</th>\n",
       "      <td>13.610313</td>\n",
       "      <td>64.791246</td>\n",
       "      <td>33.991484</td>\n",
       "      <td>10.176927</td>\n",
       "      <td>17.614723</td>\n",
       "      <td>8.357502</td>\n",
       "      <td>7.985775</td>\n",
       "      <td>56.637089</td>\n",
       "      <td>19.436988</td>\n",
       "      <td>16.279908</td>\n",
       "      <td>...</td>\n",
       "      <td>91.864259</td>\n",
       "      <td>21.585861</td>\n",
       "      <td>8.316201</td>\n",
       "      <td>13.543501</td>\n",
       "      <td>15.732896</td>\n",
       "      <td>10.007246</td>\n",
       "      <td>9.369432</td>\n",
       "      <td>35.629028</td>\n",
       "      <td>8.538620</td>\n",
       "      <td>13.882718</td>\n",
       "    </tr>\n",
       "    <tr>\n",
       "      <th>7559</th>\n",
       "      <td>13.696218</td>\n",
       "      <td>64.556594</td>\n",
       "      <td>33.786902</td>\n",
       "      <td>10.164764</td>\n",
       "      <td>17.482463</td>\n",
       "      <td>8.331010</td>\n",
       "      <td>7.948391</td>\n",
       "      <td>56.762513</td>\n",
       "      <td>19.337815</td>\n",
       "      <td>16.322545</td>\n",
       "      <td>...</td>\n",
       "      <td>92.210704</td>\n",
       "      <td>21.872066</td>\n",
       "      <td>8.379406</td>\n",
       "      <td>13.490060</td>\n",
       "      <td>15.643212</td>\n",
       "      <td>10.047503</td>\n",
       "      <td>9.421808</td>\n",
       "      <td>35.019640</td>\n",
       "      <td>8.581491</td>\n",
       "      <td>13.900020</td>\n",
       "    </tr>\n",
       "    <tr>\n",
       "      <th>7560</th>\n",
       "      <td>13.617120</td>\n",
       "      <td>64.265855</td>\n",
       "      <td>33.811427</td>\n",
       "      <td>10.096581</td>\n",
       "      <td>17.604109</td>\n",
       "      <td>8.235743</td>\n",
       "      <td>7.928028</td>\n",
       "      <td>56.746538</td>\n",
       "      <td>19.205298</td>\n",
       "      <td>16.376008</td>\n",
       "      <td>...</td>\n",
       "      <td>92.457470</td>\n",
       "      <td>21.550374</td>\n",
       "      <td>8.455114</td>\n",
       "      <td>13.524124</td>\n",
       "      <td>15.693300</td>\n",
       "      <td>10.025384</td>\n",
       "      <td>9.376420</td>\n",
       "      <td>35.117536</td>\n",
       "      <td>8.746580</td>\n",
       "      <td>13.819462</td>\n",
       "    </tr>\n",
       "  </tbody>\n",
       "</table>\n",
       "<p>7561 rows × 500 columns</p>\n",
       "</div>"
      ],
      "text/plain": [
       "            0          1          2          3          4         5    \\\n",
       "0      1.000000   1.000000   1.000000   1.000000   1.000000  1.000000   \n",
       "1      1.005248   1.012048   0.993730   0.994370   1.002762  1.006618   \n",
       "2      1.019905   0.999432   0.993169   1.002775   1.006664  1.012525   \n",
       "3      1.026501   1.006705   1.001702   1.004071   0.998581  1.018411   \n",
       "4      1.029545   1.012238   1.001404   1.006831   0.991070  1.024166   \n",
       "...         ...        ...        ...        ...        ...       ...   \n",
       "7556  13.440219  63.744388  32.940565  10.278335  17.815443  8.427154   \n",
       "7557  13.579637  64.257316  33.513935  10.302704  17.403805  8.446727   \n",
       "7558  13.610313  64.791246  33.991484  10.176927  17.614723  8.357502   \n",
       "7559  13.696218  64.556594  33.786902  10.164764  17.482463  8.331010   \n",
       "7560  13.617120  64.265855  33.811427  10.096581  17.604109  8.235743   \n",
       "\n",
       "           6          7          8          9    ...        490        491  \\\n",
       "0     1.000000   1.000000   1.000000   1.000000  ...   1.000000   1.000000   \n",
       "1     0.995111   1.006410   0.988531   1.003174  ...   1.015673   1.003419   \n",
       "2     0.995956   1.002376   0.990377   1.000444  ...   1.025757   0.985141   \n",
       "3     1.001317   1.020720   0.992662   0.999925  ...   1.015859   0.982947   \n",
       "4     0.995496   1.018011   1.003555   0.998590  ...   1.007600   0.991305   \n",
       "...        ...        ...        ...        ...  ...        ...        ...   \n",
       "7556  7.872389  57.329549  19.721404  16.510037  ...  92.680980  21.493106   \n",
       "7557  7.914051  57.071696  19.548087  16.310656  ...  92.580604  21.566700   \n",
       "7558  7.985775  56.637089  19.436988  16.279908  ...  91.864259  21.585861   \n",
       "7559  7.948391  56.762513  19.337815  16.322545  ...  92.210704  21.872066   \n",
       "7560  7.928028  56.746538  19.205298  16.376008  ...  92.457470  21.550374   \n",
       "\n",
       "           492        493        494        495       496        497  \\\n",
       "0     1.000000   1.000000   1.000000   1.000000  1.000000   1.000000   \n",
       "1     1.000416   1.007964   0.996313   0.995849  1.005216   1.002326   \n",
       "2     1.003891   1.022343   1.000484   1.003092  1.006826   1.000509   \n",
       "3     1.001083   1.013558   0.983568   0.993182  1.007440   1.001891   \n",
       "4     1.001941   1.009294   0.990148   0.999723  1.024824   1.004899   \n",
       "...        ...        ...        ...        ...       ...        ...   \n",
       "7556  8.292590  13.465199  15.735465  10.139069  9.216978  35.681622   \n",
       "7557  8.349082  13.413258  15.872579  10.120663  9.308842  35.402380   \n",
       "7558  8.316201  13.543501  15.732896  10.007246  9.369432  35.629028   \n",
       "7559  8.379406  13.490060  15.643212  10.047503  9.421808  35.019640   \n",
       "7560  8.455114  13.524124  15.693300  10.025384  9.376420  35.117536   \n",
       "\n",
       "           498        499  \n",
       "0     1.000000   1.000000  \n",
       "1     1.009463   0.999602  \n",
       "2     1.016212   1.000130  \n",
       "3     1.015405   1.005313  \n",
       "4     1.017980   1.002056  \n",
       "...        ...        ...  \n",
       "7556  8.390566  13.735707  \n",
       "7557  8.465428  13.821850  \n",
       "7558  8.538620  13.882718  \n",
       "7559  8.581491  13.900020  \n",
       "7560  8.746580  13.819462  \n",
       "\n",
       "[7561 rows x 500 columns]"
      ]
     },
     "execution_count": 87,
     "metadata": {},
     "output_type": "execute_result"
    }
   ],
   "source": [
    "# Run the Monte Carlo simulation to forecast 30 years cumulative returns\n",
    "# YOUR CODE HERE\n",
    "MC_thirtyyear.calc_cumulative_return()"
   ]
  },
  {
   "cell_type": "code",
   "execution_count": 88,
   "metadata": {},
   "outputs": [
    {
     "data": {
      "image/png": "[encoded data removed]",
      "text/plain": [
       "<Figure size 432x288 with 1 Axes>"
      ]
     },
     "metadata": {
      "needs_background": "light"
     },
     "output_type": "display_data"
    }
   ],
   "source": [
    "# Visualize the 30-year Monte Carlo simulation by creating an\n",
    "# overlay line plot\n",
    "# YOUR CODE HERE\n",
    "MC_sim_line_plot = MC_thirtyyear.plot_simulation()\n",
    "\n",
    "MC_sim_line_plot.get_figure().savefig(\"MC_thirtyyear_line_plot.png\", bbox_inches=\"tight\")"
   ]
  },
  {
   "cell_type": "markdown",
   "metadata": {},
   "source": [
    "#### Step 3: Plot the probability distribution of the Monte Carlo simulation."
   ]
  },
  {
   "cell_type": "code",
   "execution_count": 89,
   "metadata": {},
   "outputs": [
    {
     "data": {
      "image/png": "[encoded data removed]",
      "text/plain": [
       "<Figure size 432x288 with 1 Axes>"
      ]
     },
     "metadata": {
      "needs_background": "light"
     },
     "output_type": "display_data"
    }
   ],
   "source": [
    "# Visualize the probability distribution of the 30-year Monte Carlo simulation \n",
    "# by plotting a histogram\n",
    "# YOUR CODE HERE\n",
    "\n",
    "MC_sim_dist_plot = MC_thirtyyear.plot_distribution()\n",
    "\n",
    "MC_sim_dist_plot.get_figure().savefig(\"MC_thirtyyear_dist_plot.png\", bbox_inches=\"tight\")"
   ]
  },
  {
   "cell_type": "markdown",
   "metadata": {},
   "source": [
    "#### Step 4: Generate the summary statistics for the Monte Carlo simulation."
   ]
  },
  {
   "cell_type": "code",
   "execution_count": 90,
   "metadata": {},
   "outputs": [
    {
     "name": "stdout",
     "output_type": "stream",
     "text": [
      "count           500.000000\n",
      "mean             22.461206\n",
      "std              17.846496\n",
      "min               2.335285\n",
      "25%              11.213732\n",
      "50%              18.037840\n",
      "75%              27.683842\n",
      "max             154.885108\n",
      "95% CI Lower      4.821581\n",
      "95% CI Upper     66.180652\n",
      "Name: 7560, dtype: float64\n"
     ]
    }
   ],
   "source": [
    "# Generate summary statistics from the 30-year Monte Carlo simulation results\n",
    "# Save the results as a variable\n",
    "# YOUR CODE HERE\n",
    "MC_summary_statistics = MC_thirtyyear.summarize_cumulative_return()\n",
    "\n",
    "# Review the 30-year Monte Carlo summary statistics\n",
    "# YOUR CODE HERE\n",
    "\n",
    "print(MC_summary_statistics)"
   ]
  },
  {
   "cell_type": "markdown",
   "metadata": {},
   "source": [
    "### Analyze the Retirement Portfolio Forecasts\n",
    "\n",
    "Using the current value of only the stock and bond portion of the member's portfolio and the summary statistics that you generated from the Monte Carlo simulation, answer the following question in your Jupyter notebook:\n",
    "\n",
    "-  What are the lower and upper bounds for the expected value of the portfolio with a 95% confidence interval?\n"
   ]
  },
  {
   "cell_type": "code",
   "execution_count": 91,
   "metadata": {},
   "outputs": [
    {
     "name": "stdout",
     "output_type": "stream",
     "text": [
      "69900.7\n"
     ]
    }
   ],
   "source": [
    "# Print the current balance of the stock and bond portion of the members portfolio\n",
    "# YOUR CODE HERE\n",
    "print(total_stocks_bonds)"
   ]
  },
  {
   "cell_type": "code",
   "execution_count": 92,
   "metadata": {},
   "outputs": [
    {
     "name": "stdout",
     "output_type": "stream",
     "text": [
      "337031.89681708365\n",
      "4626073.897278008\n"
     ]
    }
   ],
   "source": [
    "# Use the lower and upper `95%` confidence intervals to calculate the range of the possible outcomes for the current stock/bond portfolio\n",
    "ci_lower_thirty_cumulative_return = MC_summary_statistics[8] * total_stocks_bonds\n",
    "ci_upper_thirty_cumulative_return = MC_summary_statistics[9] * total_stocks_bonds\n",
    "\n",
    "# Print the result of your calculations\n",
    "# YOUR CODE HERE\n",
    "print(ci_lower_thirty_cumulative_return)\n",
    "print(ci_upper_thirty_cumulative_return)"
   ]
  },
  {
   "cell_type": "markdown",
   "metadata": {},
   "source": [
    "### Forecast Cumulative Returns in 10 Years\n",
    "\n",
    "The CTO of the credit union is impressed with your work on these planning tools but wonders if 30 years is a long time to wait until retirement. So, your next task is to adjust the retirement portfolio and run a new Monte Carlo simulation to find out if the changes will allow members to retire earlier.\n",
    "\n",
    "For this new Monte Carlo simulation, do the following: \n",
    "\n",
    "- Forecast the cumulative returns for 10 years from now. Because of the shortened investment horizon (30 years to 10 years), the portfolio needs to invest more heavily in the riskier asset&mdash;that is, stock&mdash;to help accumulate wealth for retirement. \n",
    "\n",
    "- Adjust the weights of the retirement portfolio so that the composition for the Monte Carlo simulation consists of 20% bonds and 80% stocks. \n",
    "\n",
    "- Run the simulation over 500 samples, and use the same data that the API call to Alpaca generated.\n",
    "\n",
    "- Based on the new Monte Carlo simulation, answer the following questions in your Jupyter notebook:\n",
    "\n",
    "    - Using the current value of only the stock and bond portion of the member's portfolio and the summary statistics that you generated from the new Monte Carlo simulation, what are the lower and upper bounds for the expected value of the portfolio (with the new weights) with a 95% confidence interval?\n",
    "\n",
    "    - Will weighting the portfolio more heavily toward stocks allow the credit union members to retire after only 10 years?\n"
   ]
  },
  {
   "cell_type": "code",
   "execution_count": 94,
   "metadata": {},
   "outputs": [
    {
     "data": {
      "text/html": [
       "<div>\n",
       "<style scoped>\n",
       "    .dataframe tbody tr th:only-of-type {\n",
       "        vertical-align: middle;\n",
       "    }\n",
       "\n",
       "    .dataframe tbody tr th {\n",
       "        vertical-align: top;\n",
       "    }\n",
       "\n",
       "    .dataframe thead tr th {\n",
       "        text-align: left;\n",
       "    }\n",
       "\n",
       "    .dataframe thead tr:last-of-type th {\n",
       "        text-align: right;\n",
       "    }\n",
       "</style>\n",
       "<table border=\"1\" class=\"dataframe\">\n",
       "  <thead>\n",
       "    <tr>\n",
       "      <th></th>\n",
       "      <th colspan=\"6\" halign=\"left\">AGG</th>\n",
       "      <th colspan=\"6\" halign=\"left\">SPY</th>\n",
       "    </tr>\n",
       "    <tr>\n",
       "      <th></th>\n",
       "      <th>open</th>\n",
       "      <th>high</th>\n",
       "      <th>low</th>\n",
       "      <th>close</th>\n",
       "      <th>volume</th>\n",
       "      <th>daily_return</th>\n",
       "      <th>open</th>\n",
       "      <th>high</th>\n",
       "      <th>low</th>\n",
       "      <th>close</th>\n",
       "      <th>volume</th>\n",
       "      <th>daily_return</th>\n",
       "    </tr>\n",
       "    <tr>\n",
       "      <th>time</th>\n",
       "      <th></th>\n",
       "      <th></th>\n",
       "      <th></th>\n",
       "      <th></th>\n",
       "      <th></th>\n",
       "      <th></th>\n",
       "      <th></th>\n",
       "      <th></th>\n",
       "      <th></th>\n",
       "      <th></th>\n",
       "      <th></th>\n",
       "      <th></th>\n",
       "    </tr>\n",
       "  </thead>\n",
       "  <tbody>\n",
       "    <tr>\n",
       "      <th>2017-07-06 00:00:00-04:00</th>\n",
       "      <td>108.95</td>\n",
       "      <td>109.00</td>\n",
       "      <td>108.82</td>\n",
       "      <td>108.950</td>\n",
       "      <td>2057393.0</td>\n",
       "      <td>NaN</td>\n",
       "      <td>NaN</td>\n",
       "      <td>NaN</td>\n",
       "      <td>NaN</td>\n",
       "      <td>NaN</td>\n",
       "      <td>NaN</td>\n",
       "      <td>NaN</td>\n",
       "    </tr>\n",
       "    <tr>\n",
       "      <th>2017-07-07 00:00:00-04:00</th>\n",
       "      <td>108.89</td>\n",
       "      <td>108.95</td>\n",
       "      <td>108.83</td>\n",
       "      <td>108.870</td>\n",
       "      <td>2536724.0</td>\n",
       "      <td>-0.000734</td>\n",
       "      <td>241.21</td>\n",
       "      <td>242.28</td>\n",
       "      <td>241.02</td>\n",
       "      <td>242.10</td>\n",
       "      <td>36831437.0</td>\n",
       "      <td>NaN</td>\n",
       "    </tr>\n",
       "    <tr>\n",
       "      <th>2017-07-10 00:00:00-04:00</th>\n",
       "      <td>108.97</td>\n",
       "      <td>109.02</td>\n",
       "      <td>108.89</td>\n",
       "      <td>108.960</td>\n",
       "      <td>1940466.0</td>\n",
       "      <td>0.000827</td>\n",
       "      <td>241.95</td>\n",
       "      <td>242.80</td>\n",
       "      <td>241.76</td>\n",
       "      <td>242.36</td>\n",
       "      <td>27912725.0</td>\n",
       "      <td>0.001074</td>\n",
       "    </tr>\n",
       "    <tr>\n",
       "      <th>2017-07-11 00:00:00-04:00</th>\n",
       "      <td>108.97</td>\n",
       "      <td>109.10</td>\n",
       "      <td>108.93</td>\n",
       "      <td>109.055</td>\n",
       "      <td>1613602.0</td>\n",
       "      <td>0.000872</td>\n",
       "      <td>242.16</td>\n",
       "      <td>242.55</td>\n",
       "      <td>240.85</td>\n",
       "      <td>242.16</td>\n",
       "      <td>40900622.0</td>\n",
       "      <td>-0.000825</td>\n",
       "    </tr>\n",
       "    <tr>\n",
       "      <th>2017-07-12 00:00:00-04:00</th>\n",
       "      <td>109.38</td>\n",
       "      <td>109.43</td>\n",
       "      <td>109.26</td>\n",
       "      <td>109.380</td>\n",
       "      <td>1787218.0</td>\n",
       "      <td>0.002980</td>\n",
       "      <td>243.30</td>\n",
       "      <td>244.20</td>\n",
       "      <td>243.30</td>\n",
       "      <td>243.98</td>\n",
       "      <td>38779965.0</td>\n",
       "      <td>0.007516</td>\n",
       "    </tr>\n",
       "  </tbody>\n",
       "</table>\n",
       "</div>"
      ],
      "text/plain": [
       "                              AGG                                      \\\n",
       "                             open    high     low    close     volume   \n",
       "time                                                                    \n",
       "2017-07-06 00:00:00-04:00  108.95  109.00  108.82  108.950  2057393.0   \n",
       "2017-07-07 00:00:00-04:00  108.89  108.95  108.83  108.870  2536724.0   \n",
       "2017-07-10 00:00:00-04:00  108.97  109.02  108.89  108.960  1940466.0   \n",
       "2017-07-11 00:00:00-04:00  108.97  109.10  108.93  109.055  1613602.0   \n",
       "2017-07-12 00:00:00-04:00  109.38  109.43  109.26  109.380  1787218.0   \n",
       "\n",
       "                                           SPY                          \\\n",
       "                          daily_return    open    high     low   close   \n",
       "time                                                                     \n",
       "2017-07-06 00:00:00-04:00          NaN     NaN     NaN     NaN     NaN   \n",
       "2017-07-07 00:00:00-04:00    -0.000734  241.21  242.28  241.02  242.10   \n",
       "2017-07-10 00:00:00-04:00     0.000827  241.95  242.80  241.76  242.36   \n",
       "2017-07-11 00:00:00-04:00     0.000872  242.16  242.55  240.85  242.16   \n",
       "2017-07-12 00:00:00-04:00     0.002980  243.30  244.20  243.30  243.98   \n",
       "\n",
       "                                                    \n",
       "                               volume daily_return  \n",
       "time                                                \n",
       "2017-07-06 00:00:00-04:00         NaN          NaN  \n",
       "2017-07-07 00:00:00-04:00  36831437.0          NaN  \n",
       "2017-07-10 00:00:00-04:00  27912725.0     0.001074  \n",
       "2017-07-11 00:00:00-04:00  40900622.0    -0.000825  \n",
       "2017-07-12 00:00:00-04:00  38779965.0     0.007516  "
      ]
     },
     "execution_count": 94,
     "metadata": {},
     "output_type": "execute_result"
    }
   ],
   "source": [
    "# Configure a Monte Carlo simulation to forecast 10 years cumulative returns\n",
    "# The weights should be split 20% to AGG and 80% to SPY.\n",
    "# Run 500 samples.\n",
    "# YOUR CODE HERE\n",
    "\n",
    "MC_tenyear = MCSimulation(\n",
    "    portfolio_data = df_portfolio,\n",
    "    weights = [.20,.80],\n",
    "    num_simulation = 500,\n",
    "    num_trading_days = 252*10\n",
    ")\n",
    "\n",
    "# Review the simulation input data\n",
    "# YOUR CODE HERE\n",
    "MC_tenyear.portfolio_data.head()"
   ]
  },
  {
   "cell_type": "code",
   "execution_count": 95,
   "metadata": {},
   "outputs": [
    {
     "name": "stdout",
     "output_type": "stream",
     "text": [
      "Running Monte Carlo simulation number 0.\n",
      "Running Monte Carlo simulation number 10.\n",
      "Running Monte Carlo simulation number 20.\n",
      "Running Monte Carlo simulation number 30.\n",
      "Running Monte Carlo simulation number 40.\n",
      "Running Monte Carlo simulation number 50.\n",
      "Running Monte Carlo simulation number 60.\n",
      "Running Monte Carlo simulation number 70.\n",
      "Running Monte Carlo simulation number 80.\n",
      "Running Monte Carlo simulation number 90.\n",
      "Running Monte Carlo simulation number 100.\n",
      "Running Monte Carlo simulation number 110.\n",
      "Running Monte Carlo simulation number 120.\n",
      "Running Monte Carlo simulation number 130.\n",
      "Running Monte Carlo simulation number 140.\n",
      "Running Monte Carlo simulation number 150.\n",
      "Running Monte Carlo simulation number 160.\n",
      "Running Monte Carlo simulation number 170.\n",
      "Running Monte Carlo simulation number 180.\n",
      "Running Monte Carlo simulation number 190.\n",
      "Running Monte Carlo simulation number 200.\n",
      "Running Monte Carlo simulation number 210.\n",
      "Running Monte Carlo simulation number 220.\n",
      "Running Monte Carlo simulation number 230.\n",
      "Running Monte Carlo simulation number 240.\n",
      "Running Monte Carlo simulation number 250.\n",
      "Running Monte Carlo simulation number 260.\n",
      "Running Monte Carlo simulation number 270.\n",
      "Running Monte Carlo simulation number 280.\n",
      "Running Monte Carlo simulation number 290.\n",
      "Running Monte Carlo simulation number 300.\n",
      "Running Monte Carlo simulation number 310.\n",
      "Running Monte Carlo simulation number 320.\n",
      "Running Monte Carlo simulation number 330.\n",
      "Running Monte Carlo simulation number 340.\n",
      "Running Monte Carlo simulation number 350.\n",
      "Running Monte Carlo simulation number 360.\n",
      "Running Monte Carlo simulation number 370.\n",
      "Running Monte Carlo simulation number 380.\n",
      "Running Monte Carlo simulation number 390.\n",
      "Running Monte Carlo simulation number 400.\n",
      "Running Monte Carlo simulation number 410.\n",
      "Running Monte Carlo simulation number 420.\n",
      "Running Monte Carlo simulation number 430.\n",
      "Running Monte Carlo simulation number 440.\n",
      "Running Monte Carlo simulation number 450.\n",
      "Running Monte Carlo simulation number 460.\n",
      "Running Monte Carlo simulation number 470.\n",
      "Running Monte Carlo simulation number 480.\n",
      "Running Monte Carlo simulation number 490.\n"
     ]
    },
    {
     "data": {
      "text/html": [
       "<div>\n",
       "<style scoped>\n",
       "    .dataframe tbody tr th:only-of-type {\n",
       "        vertical-align: middle;\n",
       "    }\n",
       "\n",
       "    .dataframe tbody tr th {\n",
       "        vertical-align: top;\n",
       "    }\n",
       "\n",
       "    .dataframe thead th {\n",
       "        text-align: right;\n",
       "    }\n",
       "</style>\n",
       "<table border=\"1\" class=\"dataframe\">\n",
       "  <thead>\n",
       "    <tr style=\"text-align: right;\">\n",
       "      <th></th>\n",
       "      <th>0</th>\n",
       "      <th>1</th>\n",
       "      <th>2</th>\n",
       "      <th>3</th>\n",
       "      <th>4</th>\n",
       "      <th>5</th>\n",
       "      <th>6</th>\n",
       "      <th>7</th>\n",
       "      <th>8</th>\n",
       "      <th>9</th>\n",
       "      <th>...</th>\n",
       "      <th>490</th>\n",
       "      <th>491</th>\n",
       "      <th>492</th>\n",
       "      <th>493</th>\n",
       "      <th>494</th>\n",
       "      <th>495</th>\n",
       "      <th>496</th>\n",
       "      <th>497</th>\n",
       "      <th>498</th>\n",
       "      <th>499</th>\n",
       "    </tr>\n",
       "  </thead>\n",
       "  <tbody>\n",
       "    <tr>\n",
       "      <th>0</th>\n",
       "      <td>1.000000</td>\n",
       "      <td>1.000000</td>\n",
       "      <td>1.000000</td>\n",
       "      <td>1.000000</td>\n",
       "      <td>1.000000</td>\n",
       "      <td>1.000000</td>\n",
       "      <td>1.000000</td>\n",
       "      <td>1.000000</td>\n",
       "      <td>1.000000</td>\n",
       "      <td>1.000000</td>\n",
       "      <td>...</td>\n",
       "      <td>1.000000</td>\n",
       "      <td>1.000000</td>\n",
       "      <td>1.000000</td>\n",
       "      <td>1.000000</td>\n",
       "      <td>1.000000</td>\n",
       "      <td>1.000000</td>\n",
       "      <td>1.000000</td>\n",
       "      <td>1.000000</td>\n",
       "      <td>1.000000</td>\n",
       "      <td>1.000000</td>\n",
       "    </tr>\n",
       "    <tr>\n",
       "      <th>1</th>\n",
       "      <td>1.017550</td>\n",
       "      <td>0.994013</td>\n",
       "      <td>1.003578</td>\n",
       "      <td>0.992997</td>\n",
       "      <td>0.992569</td>\n",
       "      <td>1.008954</td>\n",
       "      <td>0.993346</td>\n",
       "      <td>0.989147</td>\n",
       "      <td>0.991721</td>\n",
       "      <td>0.995076</td>\n",
       "      <td>...</td>\n",
       "      <td>0.992219</td>\n",
       "      <td>0.997423</td>\n",
       "      <td>0.984710</td>\n",
       "      <td>0.992918</td>\n",
       "      <td>0.997343</td>\n",
       "      <td>1.007003</td>\n",
       "      <td>0.987765</td>\n",
       "      <td>0.973052</td>\n",
       "      <td>0.984545</td>\n",
       "      <td>1.014380</td>\n",
       "    </tr>\n",
       "    <tr>\n",
       "      <th>2</th>\n",
       "      <td>1.021927</td>\n",
       "      <td>0.995469</td>\n",
       "      <td>1.016896</td>\n",
       "      <td>1.005112</td>\n",
       "      <td>0.983463</td>\n",
       "      <td>1.007717</td>\n",
       "      <td>1.003187</td>\n",
       "      <td>0.993052</td>\n",
       "      <td>0.987606</td>\n",
       "      <td>0.984238</td>\n",
       "      <td>...</td>\n",
       "      <td>0.990113</td>\n",
       "      <td>0.999286</td>\n",
       "      <td>0.973968</td>\n",
       "      <td>0.981740</td>\n",
       "      <td>1.002644</td>\n",
       "      <td>1.005224</td>\n",
       "      <td>0.989090</td>\n",
       "      <td>0.977624</td>\n",
       "      <td>0.987336</td>\n",
       "      <td>1.012761</td>\n",
       "    </tr>\n",
       "    <tr>\n",
       "      <th>3</th>\n",
       "      <td>1.026545</td>\n",
       "      <td>0.989961</td>\n",
       "      <td>1.029761</td>\n",
       "      <td>0.981659</td>\n",
       "      <td>1.000256</td>\n",
       "      <td>1.011384</td>\n",
       "      <td>1.007825</td>\n",
       "      <td>0.997621</td>\n",
       "      <td>0.992569</td>\n",
       "      <td>0.986021</td>\n",
       "      <td>...</td>\n",
       "      <td>1.007724</td>\n",
       "      <td>0.980933</td>\n",
       "      <td>0.973925</td>\n",
       "      <td>0.975061</td>\n",
       "      <td>1.003642</td>\n",
       "      <td>1.009904</td>\n",
       "      <td>0.996674</td>\n",
       "      <td>0.977517</td>\n",
       "      <td>0.997496</td>\n",
       "      <td>1.019873</td>\n",
       "    </tr>\n",
       "    <tr>\n",
       "      <th>4</th>\n",
       "      <td>1.033280</td>\n",
       "      <td>0.979787</td>\n",
       "      <td>1.033966</td>\n",
       "      <td>0.980475</td>\n",
       "      <td>1.005081</td>\n",
       "      <td>1.010517</td>\n",
       "      <td>0.993645</td>\n",
       "      <td>0.999588</td>\n",
       "      <td>0.990937</td>\n",
       "      <td>0.991462</td>\n",
       "      <td>...</td>\n",
       "      <td>0.992949</td>\n",
       "      <td>0.985792</td>\n",
       "      <td>0.980846</td>\n",
       "      <td>0.971530</td>\n",
       "      <td>1.015322</td>\n",
       "      <td>1.017507</td>\n",
       "      <td>0.993835</td>\n",
       "      <td>0.982662</td>\n",
       "      <td>1.001838</td>\n",
       "      <td>1.009156</td>\n",
       "    </tr>\n",
       "    <tr>\n",
       "      <th>...</th>\n",
       "      <td>...</td>\n",
       "      <td>...</td>\n",
       "      <td>...</td>\n",
       "      <td>...</td>\n",
       "      <td>...</td>\n",
       "      <td>...</td>\n",
       "      <td>...</td>\n",
       "      <td>...</td>\n",
       "      <td>...</td>\n",
       "      <td>...</td>\n",
       "      <td>...</td>\n",
       "      <td>...</td>\n",
       "      <td>...</td>\n",
       "      <td>...</td>\n",
       "      <td>...</td>\n",
       "      <td>...</td>\n",
       "      <td>...</td>\n",
       "      <td>...</td>\n",
       "      <td>...</td>\n",
       "      <td>...</td>\n",
       "      <td>...</td>\n",
       "    </tr>\n",
       "    <tr>\n",
       "      <th>2516</th>\n",
       "      <td>3.305899</td>\n",
       "      <td>2.256599</td>\n",
       "      <td>3.017653</td>\n",
       "      <td>2.225760</td>\n",
       "      <td>5.597905</td>\n",
       "      <td>3.373222</td>\n",
       "      <td>2.044841</td>\n",
       "      <td>2.531789</td>\n",
       "      <td>1.603620</td>\n",
       "      <td>5.166986</td>\n",
       "      <td>...</td>\n",
       "      <td>3.484894</td>\n",
       "      <td>2.539935</td>\n",
       "      <td>3.204292</td>\n",
       "      <td>2.143240</td>\n",
       "      <td>3.537313</td>\n",
       "      <td>2.886053</td>\n",
       "      <td>3.148563</td>\n",
       "      <td>3.447558</td>\n",
       "      <td>3.238179</td>\n",
       "      <td>1.804113</td>\n",
       "    </tr>\n",
       "    <tr>\n",
       "      <th>2517</th>\n",
       "      <td>3.266809</td>\n",
       "      <td>2.261018</td>\n",
       "      <td>3.075705</td>\n",
       "      <td>2.221888</td>\n",
       "      <td>5.497508</td>\n",
       "      <td>3.316681</td>\n",
       "      <td>2.031637</td>\n",
       "      <td>2.531313</td>\n",
       "      <td>1.619722</td>\n",
       "      <td>5.223774</td>\n",
       "      <td>...</td>\n",
       "      <td>3.582264</td>\n",
       "      <td>2.538046</td>\n",
       "      <td>3.206295</td>\n",
       "      <td>2.169086</td>\n",
       "      <td>3.545518</td>\n",
       "      <td>2.857053</td>\n",
       "      <td>3.132819</td>\n",
       "      <td>3.421044</td>\n",
       "      <td>3.251583</td>\n",
       "      <td>1.834008</td>\n",
       "    </tr>\n",
       "    <tr>\n",
       "      <th>2518</th>\n",
       "      <td>3.243501</td>\n",
       "      <td>2.263161</td>\n",
       "      <td>3.072312</td>\n",
       "      <td>2.178684</td>\n",
       "      <td>5.489390</td>\n",
       "      <td>3.284609</td>\n",
       "      <td>2.046904</td>\n",
       "      <td>2.537435</td>\n",
       "      <td>1.656414</td>\n",
       "      <td>5.345469</td>\n",
       "      <td>...</td>\n",
       "      <td>3.558276</td>\n",
       "      <td>2.554873</td>\n",
       "      <td>3.241862</td>\n",
       "      <td>2.164558</td>\n",
       "      <td>3.515952</td>\n",
       "      <td>2.881553</td>\n",
       "      <td>3.110408</td>\n",
       "      <td>3.385122</td>\n",
       "      <td>3.181751</td>\n",
       "      <td>1.831951</td>\n",
       "    </tr>\n",
       "    <tr>\n",
       "      <th>2519</th>\n",
       "      <td>3.274126</td>\n",
       "      <td>2.244029</td>\n",
       "      <td>3.102161</td>\n",
       "      <td>2.263630</td>\n",
       "      <td>5.472886</td>\n",
       "      <td>3.258555</td>\n",
       "      <td>2.036386</td>\n",
       "      <td>2.546287</td>\n",
       "      <td>1.625632</td>\n",
       "      <td>5.412607</td>\n",
       "      <td>...</td>\n",
       "      <td>3.557668</td>\n",
       "      <td>2.574287</td>\n",
       "      <td>3.204082</td>\n",
       "      <td>2.198252</td>\n",
       "      <td>3.539980</td>\n",
       "      <td>2.862746</td>\n",
       "      <td>3.017724</td>\n",
       "      <td>3.413325</td>\n",
       "      <td>3.167323</td>\n",
       "      <td>1.842251</td>\n",
       "    </tr>\n",
       "    <tr>\n",
       "      <th>2520</th>\n",
       "      <td>3.294244</td>\n",
       "      <td>2.236152</td>\n",
       "      <td>3.124966</td>\n",
       "      <td>2.280110</td>\n",
       "      <td>5.428003</td>\n",
       "      <td>3.242689</td>\n",
       "      <td>2.062541</td>\n",
       "      <td>2.574999</td>\n",
       "      <td>1.646208</td>\n",
       "      <td>5.470575</td>\n",
       "      <td>...</td>\n",
       "      <td>3.524260</td>\n",
       "      <td>2.564959</td>\n",
       "      <td>3.195818</td>\n",
       "      <td>2.223629</td>\n",
       "      <td>3.532239</td>\n",
       "      <td>2.822482</td>\n",
       "      <td>3.072749</td>\n",
       "      <td>3.449899</td>\n",
       "      <td>3.173674</td>\n",
       "      <td>1.822520</td>\n",
       "    </tr>\n",
       "  </tbody>\n",
       "</table>\n",
       "<p>2521 rows × 500 columns</p>\n",
       "</div>"
      ],
      "text/plain": [
       "           0         1         2         3         4         5         6    \\\n",
       "0     1.000000  1.000000  1.000000  1.000000  1.000000  1.000000  1.000000   \n",
       "1     1.017550  0.994013  1.003578  0.992997  0.992569  1.008954  0.993346   \n",
       "2     1.021927  0.995469  1.016896  1.005112  0.983463  1.007717  1.003187   \n",
       "3     1.026545  0.989961  1.029761  0.981659  1.000256  1.011384  1.007825   \n",
       "4     1.033280  0.979787  1.033966  0.980475  1.005081  1.010517  0.993645   \n",
       "...        ...       ...       ...       ...       ...       ...       ...   \n",
       "2516  3.305899  2.256599  3.017653  2.225760  5.597905  3.373222  2.044841   \n",
       "2517  3.266809  2.261018  3.075705  2.221888  5.497508  3.316681  2.031637   \n",
       "2518  3.243501  2.263161  3.072312  2.178684  5.489390  3.284609  2.046904   \n",
       "2519  3.274126  2.244029  3.102161  2.263630  5.472886  3.258555  2.036386   \n",
       "2520  3.294244  2.236152  3.124966  2.280110  5.428003  3.242689  2.062541   \n",
       "\n",
       "           7         8         9    ...       490       491       492  \\\n",
       "0     1.000000  1.000000  1.000000  ...  1.000000  1.000000  1.000000   \n",
       "1     0.989147  0.991721  0.995076  ...  0.992219  0.997423  0.984710   \n",
       "2     0.993052  0.987606  0.984238  ...  0.990113  0.999286  0.973968   \n",
       "3     0.997621  0.992569  0.986021  ...  1.007724  0.980933  0.973925   \n",
       "4     0.999588  0.990937  0.991462  ...  0.992949  0.985792  0.980846   \n",
       "...        ...       ...       ...  ...       ...       ...       ...   \n",
       "2516  2.531789  1.603620  5.166986  ...  3.484894  2.539935  3.204292   \n",
       "2517  2.531313  1.619722  5.223774  ...  3.582264  2.538046  3.206295   \n",
       "2518  2.537435  1.656414  5.345469  ...  3.558276  2.554873  3.241862   \n",
       "2519  2.546287  1.625632  5.412607  ...  3.557668  2.574287  3.204082   \n",
       "2520  2.574999  1.646208  5.470575  ...  3.524260  2.564959  3.195818   \n",
       "\n",
       "           493       494       495       496       497       498       499  \n",
       "0     1.000000  1.000000  1.000000  1.000000  1.000000  1.000000  1.000000  \n",
       "1     0.992918  0.997343  1.007003  0.987765  0.973052  0.984545  1.014380  \n",
       "2     0.981740  1.002644  1.005224  0.989090  0.977624  0.987336  1.012761  \n",
       "3     0.975061  1.003642  1.009904  0.996674  0.977517  0.997496  1.019873  \n",
       "4     0.971530  1.015322  1.017507  0.993835  0.982662  1.001838  1.009156  \n",
       "...        ...       ...       ...       ...       ...       ...       ...  \n",
       "2516  2.143240  3.537313  2.886053  3.148563  3.447558  3.238179  1.804113  \n",
       "2517  2.169086  3.545518  2.857053  3.132819  3.421044  3.251583  1.834008  \n",
       "2518  2.164558  3.515952  2.881553  3.110408  3.385122  3.181751  1.831951  \n",
       "2519  2.198252  3.539980  2.862746  3.017724  3.413325  3.167323  1.842251  \n",
       "2520  2.223629  3.532239  2.822482  3.072749  3.449899  3.173674  1.822520  \n",
       "\n",
       "[2521 rows x 500 columns]"
      ]
     },
     "execution_count": 95,
     "metadata": {},
     "output_type": "execute_result"
    }
   ],
   "source": [
    "# Run the Monte Carlo simulation to forecast 10 years cumulative returns\n",
    "# YOUR CODE HERE\n",
    "MC_tenyear.calc_cumulative_return()"
   ]
  },
  {
   "cell_type": "code",
   "execution_count": 96,
   "metadata": {},
   "outputs": [
    {
     "data": {
      "image/png": "[encoded data removed]",
      "text/plain": [
       "<Figure size 432x288 with 1 Axes>"
      ]
     },
     "metadata": {
      "needs_background": "light"
     },
     "output_type": "display_data"
    }
   ],
   "source": [
    "# Visualize the 10-year Monte Carlo simulation by creating an\n",
    "# overlay line plot\n",
    "# YOUR CODE HERE\n",
    "MC_sim_line_plot = MC_tenyear.plot_simulation()\n",
    "\n",
    "MC_sim_line_plot.get_figure().savefig(\"MC_tenyear_line_plot.png\", bbox_inches=\"tight\")"
   ]
  },
  {
   "cell_type": "code",
   "execution_count": 97,
   "metadata": {},
   "outputs": [
    {
     "data": {
      "image/png": "[encoded data removed]",
      "text/plain": [
       "<Figure size 432x288 with 1 Axes>"
      ]
     },
     "metadata": {
      "needs_background": "light"
     },
     "output_type": "display_data"
    }
   ],
   "source": [
    "# Visualize the probability distribution of the 10-year Monte Carlo simulation \n",
    "# by plotting a histogram\n",
    "# YOUR CODE HERE\n",
    "MC_sim_dist_plot = MC_tenyear.plot_distribution()\n",
    "\n",
    "MC_sim_dist_plot.get_figure().savefig(\"MC_tenyear_dist_plot.png\", bbox_inches=\"tight\")"
   ]
  },
  {
   "cell_type": "code",
   "execution_count": 98,
   "metadata": {},
   "outputs": [
    {
     "name": "stdout",
     "output_type": "stream",
     "text": [
      "count           500.000000\n",
      "mean              3.853436\n",
      "std               2.277326\n",
      "min               0.474717\n",
      "25%               2.412117\n",
      "50%               3.379225\n",
      "75%               4.740937\n",
      "max              22.839600\n",
      "95% CI Lower      1.167902\n",
      "95% CI Upper      8.607920\n",
      "Name: 2520, dtype: float64\n"
     ]
    }
   ],
   "source": [
    "# Generate summary statistics from the 10-year Monte Carlo simulation results\n",
    "# Save the results as a variable\n",
    "# YOUR CODE HERE\n",
    "\n",
    "MC_summary_statistics = MC_tenyear.summarize_cumulative_return()\n",
    "\n",
    "# Review the 10-year Monte Carlo summary statistics\n",
    "# YOUR CODE HERE\n",
    "\n",
    "print(MC_summary_statistics)"
   ]
  },
  {
   "cell_type": "markdown",
   "metadata": {},
   "source": [
    "### Answer the following questions:"
   ]
  },
  {
   "cell_type": "markdown",
   "metadata": {},
   "source": [
    "#### Question: Using the current value of only the stock and bond portion of the member's portfolio and the summary statistics that you generated from the new Monte Carlo simulation, what are the lower and upper bounds for the expected value of the portfolio (with the new weights) with a 95% confidence interval?"
   ]
  },
  {
   "cell_type": "code",
   "execution_count": 99,
   "metadata": {},
   "outputs": [
    {
     "name": "stdout",
     "output_type": "stream",
     "text": [
      "69900.7\n"
     ]
    }
   ],
   "source": [
    "# Print the current balance of the stock and bond portion of the members portfolio\n",
    "# YOUR CODE HERE\n",
    "print(total_stocks_bonds)"
   ]
  },
  {
   "cell_type": "code",
   "execution_count": 102,
   "metadata": {},
   "outputs": [
    {
     "name": "stdout",
     "output_type": "stream",
     "text": [
      "81637.16827648056\n",
      "601699.6531112638\n"
     ]
    }
   ],
   "source": [
    "# Use the lower and upper `95%` confidence intervals to calculate the range of the possible outcomes for the current stock/bond portfolio\n",
    "ci_lower_ten_cumulative_return = MC_summary_statistics[8] * total_stocks_bonds\n",
    "ci_upper_ten_cumulative_return = MC_summary_statistics[9] * total_stocks_bonds\n",
    "\n",
    "# Print the result of your calculations\n",
    "# YOUR CODE HERE\n",
    "print(ci_lower_ten_cumulative_return)\n",
    "print(ci_upper_ten_cumulative_return)"
   ]
  },
  {
   "cell_type": "markdown",
   "metadata": {},
   "source": [
    "#### Question: Will weighting the portfolio more heavily to stocks allow the credit union members to retire after only 10 years?"
   ]
  },
  {
   "cell_type": "raw",
   "metadata": {},
   "source": [
    "**Answer** Yes, it is possible that weighting the portfolio more heavily to stocks can allow the credit union members to retire after ten years"
   ]
  },
  {
   "cell_type": "code",
   "execution_count": null,
   "metadata": {},
   "outputs": [],
   "source": []
  }
 ],
 "metadata": {
  "kernelspec": {
   "display_name": "dev",
   "language": "python",
   "name": "dev"
  },
  "language_info": {
   "codemirror_mode": {
    "name": "ipython",
    "version": 3
   },
   "file_extension": ".py",
   "mimetype": "text/x-python",
   "name": "python",
   "nbconvert_exporter": "python",
   "pygments_lexer": "ipython3",
   "version": "3.7.10"
  }
 },
 "nbformat": 4,
 "nbformat_minor": 4
}
